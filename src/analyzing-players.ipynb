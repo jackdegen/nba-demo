{
 "cells": [
  {
   "cell_type": "code",
   "execution_count": 1,
   "id": "57b3dc7d-4e06-48ac-ab7a-62a905eff8b4",
   "metadata": {},
   "outputs": [],
   "source": [
    "import numpy as np\n",
    "import pandas as pd\n",
    "\n",
    "from tqdm.notebook import tqdm\n",
    "\n",
    "from file_manager import FileManager\n",
    "fm = FileManager()"
   ]
  },
  {
   "cell_type": "code",
   "execution_count": 2,
   "id": "09ba4373-688e-421a-aeb9-4bee6eddff35",
   "metadata": {},
   "outputs": [],
   "source": [
    "# Pass in player dataframe\n",
    "def overview(df: pd.DataFrame):\n",
    "    infocols: list[str,...] = ['date', 'name', 'team', 'opp', 'starter']\n",
    "    statcols: list[str,...] = [col for col in df.columns if col not in infocols]\n",
    "\n",
    "    last10: list[str,...] = list((df\n",
    "                                  .sort_values('date', ascending=False)\n",
    "                                  ['date']\n",
    "                                 ))[:10]\n",
    "    \n",
    "    last5: list[str,...] = last10[:5]\n",
    "    \n",
    "    # overview\n",
    "    ov: dict[str,str|int|float] = {\n",
    "        'name': df['name'].drop_duplicates().item(),\n",
    "        'team(s)': ','.join(df['team'].drop_duplicates()),\n",
    "        'played': len(df),\n",
    "        'started': len(df.loc[df['starter']==1])\n",
    "    }\n",
    "    \n",
    "    distro: pd.Series = df['fpts'].describe().round(1)\n",
    "    \n",
    "    ov: dict[str, str|int|float] = {\n",
    "        **ov,\n",
    "        **{'ceiling': distro['75%'],'floor': distro['25%']},\n",
    "        **{f'med-{stat}': np.median(df[stat]).round(2) for stat in statcols},\n",
    "        **{\n",
    "            f'l10-median-{stat}': np.median(df.loc[df['date'].isin(last10),stat]) \n",
    "            for stat in ('fpts', 'fppm', 'mp')\n",
    "        },\n",
    "        **{\n",
    "            f'l5-median-{stat}': np.median(df.loc[df['date'].isin(last5),stat]) \n",
    "            for stat in ('fpts', 'fppm', 'mp')\n",
    "        }\n",
    "    }\n",
    "    \n",
    "    return pd.Series(ov)"
   ]
  },
  {
   "cell_type": "code",
   "execution_count": 14,
   "id": "3b33ee7f-5106-4115-82b7-2f5d1f85c118",
   "metadata": {
    "jupyter": {
     "source_hidden": true
    },
    "tags": []
   },
   "outputs": [],
   "source": [
    "# Return graph of player outcomes\n",
    "def view_player(name: str, **kwargs):\n",
    "    \n",
    "    columns: list[str,...] = [\n",
    "        'date',\n",
    "        'name',\n",
    "        'team',\n",
    "        'opp',\n",
    "        'fpts',\n",
    "        'mp',\n",
    "        'fppm',\n",
    "        'usg',\n",
    "        'pts',\n",
    "        'ast',\n",
    "        'trb',\n",
    "        'starter'\n",
    "    ]\n",
    "    \n",
    "    stats: list[str,...] = sum([\n",
    "        columns,\n",
    "        kwargs.get('stats', [])\n",
    "    ], [])\n",
    "    \n",
    "    starter_: tuple[int,...] = (0,1) if kwargs.get('starter') is None else (int(kwargs['starter']),)\n",
    "    \n",
    "    df: pd.DataFrame = (fm\n",
    "                        .load_clean_data()\n",
    "                        .pipe(lambda df_: df_.loc[(df_['name'] == name)\n",
    "                                                  & df_['starter'].isin(starter_)\n",
    "                                                 ])\n",
    "                        [stats]\n",
    "                       )\n",
    "    \n",
    "    \n",
    "    if kwargs.get('dates') is not None:\n",
    "        df: pd.DataFrame = df.loc[df['date'].isin(kwargs['dates'])]\n",
    "    \n",
    "    ov: pd.Series = overview(df)\n",
    "    bins_: int = int(ov['played']) // 1\n",
    "    print(ov)\n",
    "    \n",
    "    plot: str = kwargs.get('plot', 'histogram')\n",
    "    plotkwargs = {kw:arg for kw,arg in kwargs.items() if kw not in ('stats','target', 'starter','dates')}\n",
    "    \n",
    "    plotkwargs = {\n",
    "        **plotkwargs,\n",
    "        **{'figsize': plotkwargs.get('figsize',(15,10)), 'bins': plotkwargs.get('bins', bins_)}\n",
    "    }\n",
    "    \n",
    "    target: str = kwargs.get('target', 'fpts')\n",
    "    \n",
    "    \n",
    "    if plot in ('hist', 'histogram'):\n",
    "        return (df\n",
    "                .plot\n",
    "                .hist(\n",
    "                    column=[target],\n",
    "                    # Nondefault args for hist\n",
    "                    # bins=plotkwargs.get('bins', 7),\n",
    "                    # figsize=figsize,\n",
    "                    **plotkwargs\n",
    "                )\n",
    "               )\n",
    "    \n",
    "    if plot in ('box', 'boxplot'):\n",
    "        return (df\n",
    "                .plot\n",
    "                .box(column=[target],figsize=plotkwargs['figsize'])\n",
    "               )\n",
    "    \n",
    "    return None"
   ]
  },
  {
   "cell_type": "code",
   "execution_count": 29,
   "id": "23a527ed-2d76-4601-989d-18d54e231f17",
   "metadata": {
    "tags": []
   },
   "outputs": [],
   "source": [
    "def correlation_between(*args, **kwargs) -> float:\n",
    "    stat: str = kwargs.get('stat', 'fpts')\n",
    "    df: pd.DataFrame = (fm.load_clean_data()\n",
    "                        .pipe(lambda df_: df_.loc[(df_['name'].isin(args))\n",
    "                                                  & (df_['mp']>=12.0)\n",
    "                                                  # & (df_['starter']==1)\n",
    "                                                 ])\n",
    "                       )\n",
    "    \n",
    "    if 'team' in kwargs:\n",
    "        df: pd.DataFrame = df.loc[df['team'] == 'team']\n",
    "    \n",
    "    dates: tuple[str,...] = tuple(df\n",
    "                                  .groupby('date')\n",
    "                                  ['name']\n",
    "                                  .agg('count')\n",
    "                                  .pipe(lambda s_: s_.loc[s_== 2])\n",
    "                                  .index\n",
    "                                 )\n",
    "    \n",
    "    s0: pd.Series = (df\n",
    "                     .loc[(df['name']==args[0]) \n",
    "                          & (df['date'].isin(dates))\n",
    "                         ]\n",
    "                     .sort_values('date')\n",
    "                     .reset_index(drop=True)\n",
    "                     [stat]\n",
    "                     .astype('float')\n",
    "                    )\n",
    "    \n",
    "    s1: pd.Series = (df\n",
    "                     .loc[(df['name']==args[1]) \n",
    "                          & (df['date'].isin(dates))\n",
    "                         ]\n",
    "                     .sort_values('date')\n",
    "                     .reset_index(drop=True)\n",
    "                     [stat]\n",
    "                     .astype('float')\n",
    "                    )\n",
    "    \n",
    "    \n",
    "    print(f'Sample size: {len(dates)}\\n')\n",
    "    \n",
    "    return s0.corr(s1)\n",
    "    # return tuple([len(s) for s in (s0,s1)])"
   ]
  },
  {
   "cell_type": "code",
   "execution_count": 37,
   "id": "21ce3b24-6561-499d-aafd-7a4393a477fd",
   "metadata": {},
   "outputs": [
    {
     "name": "stdout",
     "output_type": "stream",
     "text": [
      "Sample size: 36\n",
      "\n"
     ]
    },
    {
     "data": {
      "text/plain": [
       "0.42678501494041965"
      ]
     },
     "execution_count": 37,
     "metadata": {},
     "output_type": "execute_result"
    }
   ],
   "source": [
    "correlation_between(\n",
    "    'Anthony Davis',\n",
    "    'Troy Brown',\n",
    "    stat='mp'\n",
    ")"
   ]
  },
  {
   "cell_type": "code",
   "execution_count": 34,
   "id": "63dc3834-5b4c-4ab9-855a-8e9da1ee86e0",
   "metadata": {},
   "outputs": [
    {
     "name": "stdout",
     "output_type": "stream",
     "text": [
      "Sample size: 47\n",
      "\n"
     ]
    },
    {
     "data": {
      "text/plain": [
       "0.3035908076613799"
      ]
     },
     "execution_count": 34,
     "metadata": {},
     "output_type": "execute_result"
    }
   ],
   "source": [
    "correlation_between(\n",
    "    'Fred VanVleet', \n",
    "    'Gary Trent',\n",
    "    stat='mp'\n",
    "    # stat='fppm'\n",
    ")"
   ]
  },
  {
   "cell_type": "code",
   "execution_count": 38,
   "id": "92fb506b-7ba6-4c88-ac4b-049770a66cd7",
   "metadata": {},
   "outputs": [
    {
     "name": "stdout",
     "output_type": "stream",
     "text": [
      "Sample size: 25\n",
      "\n"
     ]
    },
    {
     "data": {
      "text/plain": [
       "-0.15119922059834096"
      ]
     },
     "execution_count": 38,
     "metadata": {},
     "output_type": "execute_result"
    }
   ],
   "source": [
    "correlation_between('Lonnie Walker', 'Rui Hachimura')"
   ]
  },
  {
   "cell_type": "code",
   "execution_count": 39,
   "id": "34c23c07-ec3f-4bef-93d0-ceb3eed3eb76",
   "metadata": {},
   "outputs": [
    {
     "name": "stdout",
     "output_type": "stream",
     "text": [
      "Sample size: 31\n",
      "\n"
     ]
    },
    {
     "data": {
      "text/plain": [
       "0.07690017017707856"
      ]
     },
     "execution_count": 39,
     "metadata": {},
     "output_type": "execute_result"
    }
   ],
   "source": [
    "correlation_between('Troy Brown', 'Rui Hachimura')"
   ]
  },
  {
   "cell_type": "code",
   "execution_count": 18,
   "id": "59f6b7e4-e867-474e-9ac2-63dd2a784fcd",
   "metadata": {},
   "outputs": [
    {
     "name": "stdout",
     "output_type": "stream",
     "text": [
      "Sample size: 42\n",
      "\n"
     ]
    },
    {
     "data": {
      "text/plain": [
       "0.07696195281770052"
      ]
     },
     "execution_count": 18,
     "metadata": {},
     "output_type": "execute_result"
    }
   ],
   "source": [
    "correlation_between('OG Anunoby', 'Pascal Siakam')"
   ]
  },
  {
   "cell_type": "code",
   "execution_count": 44,
   "id": "50a03f9f-a495-41f3-b0bb-fea00c710dae",
   "metadata": {},
   "outputs": [
    {
     "name": "stdout",
     "output_type": "stream",
     "text": [
      "Sample size: 40\n",
      "\n"
     ]
    },
    {
     "data": {
      "text/plain": [
       "0.4583712895838402"
      ]
     },
     "execution_count": 44,
     "metadata": {},
     "output_type": "execute_result"
    }
   ],
   "source": [
    "correlation_between('Fred VanVleet', 'OG Anunoby', stat='mp')"
   ]
  },
  {
   "cell_type": "code",
   "execution_count": 45,
   "id": "c08cd358-4857-4144-91a9-c42a75898d94",
   "metadata": {},
   "outputs": [
    {
     "name": "stdout",
     "output_type": "stream",
     "text": [
      "Sample size: 49\n",
      "\n"
     ]
    },
    {
     "data": {
      "text/plain": [
       "0.19310278641670192"
      ]
     },
     "execution_count": 45,
     "metadata": {},
     "output_type": "execute_result"
    }
   ],
   "source": [
    "correlation_between('OG Anunoby', 'Scottie Barnes')"
   ]
  },
  {
   "cell_type": "code",
   "execution_count": 43,
   "id": "27db4640-8845-4798-8f80-090c560818af",
   "metadata": {},
   "outputs": [
    {
     "name": "stdout",
     "output_type": "stream",
     "text": [
      "Sample size: 47\n",
      "\n"
     ]
    },
    {
     "data": {
      "text/plain": [
       "0.07085654829943974"
      ]
     },
     "execution_count": 43,
     "metadata": {},
     "output_type": "execute_result"
    }
   ],
   "source": [
    "correlation_between('Fred VanVleet', 'Gary Trent')"
   ]
  },
  {
   "cell_type": "code",
   "execution_count": 22,
   "id": "085c56cd-678d-4603-87e9-837b5c4570e0",
   "metadata": {},
   "outputs": [
    {
     "name": "stdout",
     "output_type": "stream",
     "text": [
      "name               Troy Brown\n",
      "team(s)                   LAL\n",
      "played                     36\n",
      "started                    36\n",
      "ceiling                  21.7\n",
      "floor                    15.3\n",
      "med-fpts                 18.5\n",
      "med-mp                  27.35\n",
      "med-fppm                 0.65\n",
      "med-usg                  0.13\n",
      "med-pts                   9.0\n",
      "med-ast                   1.0\n",
      "med-trb                   4.0\n",
      "l10-median-fpts          22.7\n",
      "l10-median-fppm      0.679056\n",
      "l10-median-mp       32.216667\n",
      "l5-median-fpts           26.2\n",
      "l5-median-fppm       0.712219\n",
      "l5-median-mp        33.416667\n",
      "dtype: object\n"
     ]
    },
    {
     "data": {
      "image/png": "[encoded data removed]",
      "text/plain": [
       "<Figure size 1080x720 with 1 Axes>"
      ]
     },
     "metadata": {
      "needs_background": "light"
     },
     "output_type": "display_data"
    }
   ],
   "source": [
    "view_player(\n",
    "    'Troy Brown',\n",
    "    starter=True,\n",
    "    # plot='box',\n",
    "    # bins=2,\n",
    ");"
   ]
  },
  {
   "cell_type": "code",
   "execution_count": 21,
   "id": "17ded98e-6cc4-4412-92a5-7b7ce0e8696c",
   "metadata": {},
   "outputs": [],
   "source": [
    "def boom_bust(name: str, salary: int, **kwargs) -> tuple[float, float]:\n",
    "    starter_: tuple[int,...] = (0,1) if kwargs.get('starter') is None else (int(kwargs['starter']),)\n",
    "    df: pd.DataFrame = (fm\n",
    "                        .load_clean_data()\n",
    "                        .pipe(lambda df_: df_.loc[(df_['name'] == name)\n",
    "                                                  & df_['starter'].isin(starter_)\n",
    "                                                  & (df_['mp']>10.0)\n",
    "                                                 ])\n",
    "                        [['date', 'name', 'fpts']]\n",
    "                        .set_index('name')\n",
    "                       )\n",
    "    \n",
    "\n",
    "    if kwargs.get('dates') is not None:\n",
    "        df: pd.DataFrame = df.loc[df['date'].isin(kwargs['dates'])]\n",
    "    \n",
    "    five_x: float = 5 * (salary / 1000)\n",
    "    total: int = len(df)\n",
    "    \n",
    "    boom: int = len(df.loc[df['fpts']>=five_x+10])\n",
    "    five: int = len(df.loc[(df['fpts']>=five_x) & (df['fpts']<five_x+10)])\n",
    "    bust: int = len(df.loc[df['fpts']<five_x])\n",
    "    \n",
    "    print(f'Sample size: {total}\\n')\n",
    "    \n",
    "    return (pd\n",
    "            .Series({'boom': 100*(boom/total), 'fivex': 100*(five/total), 'bust': 100*(bust/total)})\n",
    "            .round(2)\n",
    "            # .plot\n",
    "            # .barh(figsize=(10,5))\n",
    "           )\n",
    "    \n",
    "    \n",
    "    # return tuple([ 100*(val/total) for val in (boom, bust) ])\n",
    "    \n",
    "    # return df"
   ]
  },
  {
   "cell_type": "code",
   "execution_count": 17,
   "id": "3e34f922-2fd6-4078-aed8-532ff8aa307b",
   "metadata": {},
   "outputs": [
    {
     "name": "stdout",
     "output_type": "stream",
     "text": [
      "Sample size: 59\n",
      "\n"
     ]
    },
    {
     "data": {
      "text/plain": [
       "boom      5.08\n",
       "fivex    27.12\n",
       "bust     67.80\n",
       "dtype: float64"
      ]
     },
     "execution_count": 17,
     "metadata": {},
     "output_type": "execute_result"
    }
   ],
   "source": [
    "boom_bust('Jaden Ivey', 6100) #, starter=True)"
   ]
  },
  {
   "cell_type": "code",
   "execution_count": 18,
   "id": "1e3e78d8-023b-4134-853e-3e8c970831c2",
   "metadata": {},
   "outputs": [
    {
     "name": "stdout",
     "output_type": "stream",
     "text": [
      "Sample size: 56\n",
      "\n"
     ]
    },
    {
     "data": {
      "text/plain": [
       "boom     10.71\n",
       "fivex    23.21\n",
       "bust     66.07\n",
       "dtype: float64"
      ]
     },
     "execution_count": 18,
     "metadata": {},
     "output_type": "execute_result"
    }
   ],
   "source": [
    "boom_bust('Nikola Jokic', 12000)"
   ]
  },
  {
   "cell_type": "code",
   "execution_count": 21,
   "id": "fd9b09f7-caa0-486c-acaa-1bb1c4293c80",
   "metadata": {},
   "outputs": [
    {
     "name": "stdout",
     "output_type": "stream",
     "text": [
      "Sample size: 28\n",
      "\n"
     ]
    },
    {
     "data": {
      "text/plain": [
       "boom      7.14\n",
       "fivex    25.00\n",
       "bust     67.86\n",
       "dtype: float64"
      ]
     },
     "execution_count": 21,
     "metadata": {},
     "output_type": "execute_result"
    }
   ],
   "source": [
    "boom_bust('Marvin Bagley', 6200)"
   ]
  },
  {
   "cell_type": "code",
   "execution_count": 25,
   "id": "b360c0e4-fa73-49ec-aaec-ecd473e1ce09",
   "metadata": {},
   "outputs": [
    {
     "name": "stdout",
     "output_type": "stream",
     "text": [
      "Sample size: 50\n",
      "\n"
     ]
    },
    {
     "data": {
      "text/plain": [
       "boom     14.0\n",
       "fivex    18.0\n",
       "bust     68.0\n",
       "dtype: float64"
      ]
     },
     "execution_count": 25,
     "metadata": {},
     "output_type": "execute_result"
    }
   ],
   "source": [
    "boom_bust('Joel Embiid', 11800)"
   ]
  },
  {
   "cell_type": "code",
   "execution_count": 23,
   "id": "09d8e9ed-5ddd-406e-ba89-c07dae6a0617",
   "metadata": {},
   "outputs": [
    {
     "name": "stdout",
     "output_type": "stream",
     "text": [
      "Sample size: 4\n",
      "\n"
     ]
    },
    {
     "data": {
      "text/plain": [
       "boom      0.0\n",
       "fivex    75.0\n",
       "bust     25.0\n",
       "dtype: float64"
      ]
     },
     "execution_count": 23,
     "metadata": {},
     "output_type": "execute_result"
    }
   ],
   "source": [
    "boom_bust(\n",
    "    'Grant Williams', \n",
    "    4500,\n",
    "    dates=('2022-11-27', '2022-12-18', '2023-01-21', '2023-02-14')\n",
    ")"
   ]
  },
  {
   "cell_type": "code",
   "execution_count": 24,
   "id": "e57056ed-52b4-4920-96e5-7654ef0ad68b",
   "metadata": {},
   "outputs": [
    {
     "name": "stdout",
     "output_type": "stream",
     "text": [
      "Sample size: 4\n",
      "\n"
     ]
    },
    {
     "data": {
      "text/plain": [
       "boom     25.0\n",
       "fivex     0.0\n",
       "bust     75.0\n",
       "dtype: float64"
      ]
     },
     "execution_count": 24,
     "metadata": {},
     "output_type": "execute_result"
    }
   ],
   "source": [
    "boom_bust(\n",
    "    'Derrick White', \n",
    "    5700,\n",
    "    dates=('2022-11-27', '2022-12-18', '2023-01-21', '2023-02-14')\n",
    ")"
   ]
  },
  {
   "cell_type": "code",
   "execution_count": 26,
   "id": "0ff343f3-eace-408b-b8ef-9234f389f779",
   "metadata": {},
   "outputs": [
    {
     "data": {
      "text/plain": [
       "boom     8.47\n",
       "bust    66.10\n",
       "dtype: float64"
      ]
     },
     "execution_count": 26,
     "metadata": {},
     "output_type": "execute_result"
    }
   ],
   "source": [
    "boom_bust('Scottie Barnes', 7800, starter=True)"
   ]
  },
  {
   "cell_type": "code",
   "execution_count": 27,
   "id": "c453ed09-a4fd-4f36-b769-223705e9e77d",
   "metadata": {},
   "outputs": [
    {
     "data": {
      "text/plain": [
       "boom    12.50\n",
       "bust    64.29\n",
       "dtype: float64"
      ]
     },
     "execution_count": 27,
     "metadata": {},
     "output_type": "execute_result"
    }
   ],
   "source": [
    "boom_bust('Kyle Kuzma', 7700, starter=True)"
   ]
  },
  {
   "cell_type": "code",
   "execution_count": 28,
   "id": "4e40777a-c6c4-4d71-917c-3b470c21779b",
   "metadata": {},
   "outputs": [
    {
     "data": {
      "text/plain": [
       "boom    18.87\n",
       "bust    60.38\n",
       "dtype: float64"
      ]
     },
     "execution_count": 28,
     "metadata": {},
     "output_type": "execute_result"
    }
   ],
   "source": [
    "boom_bust('Pascal Siakam', 9300, starter=True)"
   ]
  },
  {
   "cell_type": "code",
   "execution_count": 32,
   "id": "87d4f338-b704-49d5-83e7-ff7e9ec9ae29",
   "metadata": {},
   "outputs": [
    {
     "data": {
      "text/plain": [
       "boom     5.88\n",
       "bust    70.59\n",
       "dtype: float64"
      ]
     },
     "execution_count": 32,
     "metadata": {},
     "output_type": "execute_result"
    }
   ],
   "source": [
    "boom_bust('Donte DiVincenzo', 6500, starter=True)"
   ]
  },
  {
   "cell_type": "code",
   "execution_count": 34,
   "id": "6f99c611-061a-4798-a2de-00f111a5aa54",
   "metadata": {},
   "outputs": [
    {
     "data": {
      "text/plain": [
       "boom    14.04\n",
       "bust    54.39\n",
       "dtype: float64"
      ]
     },
     "execution_count": 34,
     "metadata": {},
     "output_type": "execute_result"
    }
   ],
   "source": [
    "boom_bust('Tobias Harris', 6000, starter=True)"
   ]
  },
  {
   "cell_type": "code",
   "execution_count": 18,
   "id": "fcac989f-2e6d-4fdf-9c9c-2533ed61d409",
   "metadata": {},
   "outputs": [
    {
     "data": {
      "text/plain": [
       "boom    13.21\n",
       "bust    60.38\n",
       "dtype: float64"
      ]
     },
     "execution_count": 18,
     "metadata": {},
     "output_type": "execute_result"
    }
   ],
   "source": [
    "boom_bust('Kristaps Porzingis', 9100, starter=True)"
   ]
  },
  {
   "cell_type": "code",
   "execution_count": 12,
   "id": "f445fd4b-9f3c-49d8-a0a5-4bdd660a6a1a",
   "metadata": {},
   "outputs": [
    {
     "data": {
      "text/plain": [
       "boom    18.52\n",
       "bust    59.26\n",
       "dtype: float64"
      ]
     },
     "execution_count": 12,
     "metadata": {},
     "output_type": "execute_result"
    }
   ],
   "source": [
    "boom_bust('Shai Gilgeous-Alexander', 10500, starter=True)"
   ]
  },
  {
   "cell_type": "code",
   "execution_count": 20,
   "id": "f737ffee-a246-4d0a-8866-c7b39a47d1ea",
   "metadata": {},
   "outputs": [
    {
     "data": {
      "text/plain": [
       "boom    50.00\n",
       "bust    33.33\n",
       "dtype: float64"
      ]
     },
     "execution_count": 20,
     "metadata": {},
     "output_type": "execute_result"
    }
   ],
   "source": [
    "boom_bust('TJ McConnell', 4700, starter=True)"
   ]
  },
  {
   "cell_type": "code",
   "execution_count": 13,
   "id": "afadca5c-0e89-4561-8829-80f94592b930",
   "metadata": {},
   "outputs": [
    {
     "data": {
      "text/plain": [
       "boom    17.24\n",
       "bust    53.45\n",
       "dtype: float64"
      ]
     },
     "execution_count": 13,
     "metadata": {},
     "output_type": "execute_result"
    }
   ],
   "source": [
    "boom_bust('RJ Barrett', 5900, starter=True)"
   ]
  },
  {
   "cell_type": "code",
   "execution_count": 14,
   "id": "f7ae46b9-c992-42b9-a529-ac261f147350",
   "metadata": {},
   "outputs": [
    {
     "data": {
      "text/plain": [
       "boom     9.52\n",
       "bust    49.21\n",
       "dtype: float64"
      ]
     },
     "execution_count": 14,
     "metadata": {},
     "output_type": "execute_result"
    }
   ],
   "source": [
    "boom_bust('Franz Wagner', 5900, starter=True)"
   ]
  },
  {
   "cell_type": "code",
   "execution_count": 15,
   "id": "d7228a54-0783-47d5-a79d-518916e9cda0",
   "metadata": {},
   "outputs": [
    {
     "data": {
      "text/plain": [
       "boom    15.56\n",
       "bust    62.22\n",
       "dtype: float64"
      ]
     },
     "execution_count": 15,
     "metadata": {},
     "output_type": "execute_result"
    }
   ],
   "source": [
    "boom_bust('Jaren Jackson', 8000, starter=True)"
   ]
  },
  {
   "cell_type": "code",
   "execution_count": 19,
   "id": "4593a79c-4736-4f39-8fa7-04a2f78779e7",
   "metadata": {},
   "outputs": [
    {
     "data": {
      "text/plain": [
       "boom     0.00\n",
       "bust    91.67\n",
       "dtype: float64"
      ]
     },
     "execution_count": 19,
     "metadata": {},
     "output_type": "execute_result"
    }
   ],
   "source": [
    "boom_bust('Blake Wesley', 3800, starter=False)"
   ]
  },
  {
   "cell_type": "code",
   "execution_count": 11,
   "id": "12718c2e-bd1e-4ca0-8be3-8d39b3db338a",
   "metadata": {},
   "outputs": [
    {
     "data": {
      "text/plain": [
       "boom    11.54\n",
       "bust    63.46\n",
       "dtype: float64"
      ]
     },
     "execution_count": 11,
     "metadata": {},
     "output_type": "execute_result"
    }
   ],
   "source": [
    "boom_bust('Kelly Olynyk', 5800, starter=True)"
   ]
  },
  {
   "cell_type": "code",
   "execution_count": 10,
   "id": "bbda39d9-0a89-4f3e-b8fe-2b18a8616b1d",
   "metadata": {},
   "outputs": [
    {
     "data": {
      "text/plain": [
       "boom    11.29\n",
       "bust    61.29\n",
       "dtype: float64"
      ]
     },
     "execution_count": 10,
     "metadata": {},
     "output_type": "execute_result"
    }
   ],
   "source": [
    "boom_bust('Brook Lopez', 7000, starter=True)"
   ]
  },
  {
   "cell_type": "code",
   "execution_count": null,
   "id": "093d3566-1bd6-487a-8dda-2df60b441c67",
   "metadata": {},
   "outputs": [],
   "source": []
  }
 ],
 "metadata": {
  "kernelspec": {
   "display_name": "Python 3 (ipykernel)",
   "language": "python",
   "name": "python3"
  },
  "language_info": {
   "codemirror_mode": {
    "name": "ipython",
    "version": 3
   },
   "file_extension": ".py",
   "mimetype": "text/x-python",
   "name": "python",
   "nbconvert_exporter": "python",
   "pygments_lexer": "ipython3",
   "version": "3.10.8"
  }
 },
 "nbformat": 4,
 "nbformat_minor": 5
}
