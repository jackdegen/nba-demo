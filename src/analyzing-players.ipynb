{
 "cells": [
  {
   "cell_type": "code",
   "execution_count": null,
   "id": "57b3dc7d-4e06-48ac-ab7a-62a905eff8b4",
   "metadata": {},
   "outputs": [],
   "source": [
    "import numpy as np\n",
    "import pandas as pd\n",
    "\n",
    "from tqdm.notebook import tqdm\n",
    "\n",
    "from file_manager import FileManager\n",
    "fm = FileManager()"
   ]
  },
  {
   "cell_type": "code",
   "execution_count": 56,
   "id": "09ba4373-688e-421a-aeb9-4bee6eddff35",
   "metadata": {},
   "outputs": [],
   "source": [
    "# Pass in player dataframe\n",
    "def create_overview(df: pd.DataFrame):\n",
    "    infocols: list[str,...] = ['date', 'name', 'team', 'opp', 'starter']\n",
    "    statcols: list[str,...] = [col for col in df.columns if col not in infocols]\n",
    "\n",
    "    \n",
    "    # overview\n",
    "    ov: dict[str,str|int|float] = {\n",
    "        'name': df['name'].drop_duplicates().item(),\n",
    "        'team(s)': ','.join(df['team'].drop_duplicates()),\n",
    "        'played': len(df),\n",
    "        'started': len(df.loc[df['starter']==1])\n",
    "    }\n",
    "    \n",
    "    ov: dict[str, str|int|float] = {\n",
    "        **ov,\n",
    "        **{f'med-{stat}': np.median(df[stat]).round(2) for stat in statcols},\n",
    "        # **{f'avg-{stat}': np.mean(df[stat]).round(2) for stat in ('fpts', 'mp')}\n",
    "    }\n",
    "    \n",
    "    return pd.Series(ov)"
   ]
  },
  {
   "cell_type": "code",
   "execution_count": 151,
   "id": "3b33ee7f-5106-4115-82b7-2f5d1f85c118",
   "metadata": {},
   "outputs": [],
   "source": [
    "# Return graph of player outcomes\n",
    "def view_player(name: str, **kwargs):\n",
    "    \n",
    "    columns: list[str,...] = [\n",
    "        'date',\n",
    "        'name',\n",
    "        'team',\n",
    "        'opp',\n",
    "        'mp',\n",
    "        'fpts',\n",
    "        'fppm',\n",
    "        'usg',\n",
    "        'pts',\n",
    "        'ast',\n",
    "        'trb',\n",
    "        'starter'\n",
    "    ]\n",
    "    \n",
    "    stats: list[str,...] = sum([\n",
    "        columns,\n",
    "        kwargs.get('stats', [])\n",
    "    ], [])\n",
    "    \n",
    "    starter_: tuple[int,...] = (0,1) if kwargs.get('starter') is None else (int(kwargs['starter']),)\n",
    "    \n",
    "    df: pd.DataFrame = (fm\n",
    "                        .load_clean_data()\n",
    "                        .pipe(lambda df_: df_.loc[(df_['name'] == name)\n",
    "                                                  & df_['starter'].isin(starter_)\n",
    "                                                 ])\n",
    "                        [stats]\n",
    "                       )\n",
    "    \n",
    "    print(create_overview(df))\n",
    "    \n",
    "    plot: str = kwargs.get('plot', 'histogram')\n",
    "    plotkwargs = {kw:arg for kw,arg in kwargs.items() if kw not in ('stats','target', 'starter')}\n",
    "    figsize = plotkwargs.get('figsize', (15,10))\n",
    "    \n",
    "    target: str = kwargs.get('target', 'fpts')\n",
    "    \n",
    "    \n",
    "    if plot in ('hist', 'histogram'):\n",
    "        return (df\n",
    "                .plot\n",
    "                .hist(\n",
    "                    column=[target],\n",
    "                    # Nondefault args for hist\n",
    "                    # bins=plotkwargs.get('bins', 7),\n",
    "                    figsize=figsize,\n",
    "                    **plotkwargs\n",
    "                )\n",
    "               )\n",
    "    \n",
    "    if plot in ('box', 'boxplot'):\n",
    "        return (df\n",
    "                .plot\n",
    "                .box(column=[target], figsize=figsize)\n",
    "               )\n",
    "    \n",
    "    return None"
   ]
  },
  {
   "cell_type": "code",
   "execution_count": 152,
   "id": "ab93ef65-8cf4-4ed5-a953-d01675484453",
   "metadata": {},
   "outputs": [
    {
     "name": "stdout",
     "output_type": "stream",
     "text": [
      "name        Donovan Mitchell\n",
      "team(s)                  CLE\n",
      "played                    49\n",
      "started                   49\n",
      "med-mp                 36.82\n",
      "med-fpts                40.5\n",
      "med-fppm                1.16\n",
      "med-usg                 0.32\n",
      "med-pts                 28.0\n",
      "med-ast                  5.0\n",
      "med-trb                  4.0\n",
      "dtype: object\n"
     ]
    },
    {
     "data": {
      "image/png": "[encoded data removed]",
      "text/plain": [
       "<Figure size 1080x720 with 1 Axes>"
      ]
     },
     "metadata": {
      "needs_background": "light"
     },
     "output_type": "display_data"
    }
   ],
   "source": [
    "view_player(\n",
    "    'Donovan Mitchell',\n",
    "    # plot='box',\n",
    "    bins=8,\n",
    "    # width=10\n",
    ");"
   ]
  },
  {
   "cell_type": "code",
   "execution_count": null,
   "id": "a81fbd77-384a-4a4a-b587-da4092ac5c40",
   "metadata": {},
   "outputs": [],
   "source": []
  }
 ],
 "metadata": {
  "kernelspec": {
   "display_name": "Python 3 (ipykernel)",
   "language": "python",
   "name": "python3"
  },
  "language_info": {
   "codemirror_mode": {
    "name": "ipython",
    "version": 3
   },
   "file_extension": ".py",
   "mimetype": "text/x-python",
   "name": "python",
   "nbconvert_exporter": "python",
   "pygments_lexer": "ipython3",
   "version": "3.10.8"
  }
 },
 "nbformat": 4,
 "nbformat_minor": 5
}
