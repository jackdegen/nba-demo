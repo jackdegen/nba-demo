{
 "cells": [
  {
   "cell_type": "code",
   "execution_count": 1,
   "id": "57b3dc7d-4e06-48ac-ab7a-62a905eff8b4",
   "metadata": {},
   "outputs": [],
   "source": [
    "import numpy as np\n",
    "import pandas as pd\n",
    "\n",
    "from tqdm.notebook import tqdm\n",
    "\n",
    "from file_manager import FileManager\n",
    "fm = FileManager()"
   ]
  },
  {
   "cell_type": "code",
   "execution_count": 2,
   "id": "09ba4373-688e-421a-aeb9-4bee6eddff35",
   "metadata": {},
   "outputs": [],
   "source": [
    "# Pass in player dataframe\n",
    "def overview(df: pd.DataFrame):\n",
    "    infocols: list[str,...] = ['date', 'name', 'team', 'opp', 'starter']\n",
    "    statcols: list[str,...] = [col for col in df.columns if col not in infocols]\n",
    "\n",
    "    last10: list[str,...] = list((df\n",
    "                                  .sort_values('date', ascending=False)\n",
    "                                  ['date']\n",
    "                                 ))[:10]\n",
    "    \n",
    "    last5: list[str,...] = last10[:5]\n",
    "    \n",
    "    # overview\n",
    "    ov: dict[str,str|int|float] = {\n",
    "        'name': df['name'].drop_duplicates().item(),\n",
    "        'team(s)': ','.join(df['team'].drop_duplicates()),\n",
    "        'played': len(df),\n",
    "        'started': len(df.loc[df['starter']==1])\n",
    "    }\n",
    "    \n",
    "    distro: pd.Series = df['fpts'].describe().round(1)\n",
    "    \n",
    "    ov: dict[str, str|int|float] = {\n",
    "        **ov,\n",
    "        **{'ceiling': distro['75%'],'floor': distro['25%']},\n",
    "        **{f'med-{stat}': np.median(df[stat]).round(2) for stat in statcols},\n",
    "        **{\n",
    "            f'l10-median-{stat}': np.median(df.loc[df['date'].isin(last10),stat]) \n",
    "            for stat in ('fpts', 'fppm', 'mp')\n",
    "        },\n",
    "        **{\n",
    "            f'l5-median-{stat}': np.median(df.loc[df['date'].isin(last5),stat]) \n",
    "            for stat in ('fpts', 'fppm', 'mp')\n",
    "        }\n",
    "    }\n",
    "    \n",
    "    return pd.Series(ov)"
   ]
  },
  {
   "cell_type": "code",
   "execution_count": 3,
   "id": "3b33ee7f-5106-4115-82b7-2f5d1f85c118",
   "metadata": {
    "tags": []
   },
   "outputs": [],
   "source": [
    "# Return graph of player outcomes\n",
    "def view_player(name: str, **kwargs):\n",
    "    \n",
    "    columns: list[str,...] = [\n",
    "        'date',\n",
    "        'name',\n",
    "        'team',\n",
    "        'opp',\n",
    "        'fpts',\n",
    "        'mp',\n",
    "        'fppm',\n",
    "        'usg',\n",
    "        'pts',\n",
    "        'ast',\n",
    "        'trb',\n",
    "        'starter'\n",
    "    ]\n",
    "    \n",
    "    stats: list[str,...] = sum([\n",
    "        columns,\n",
    "        kwargs.get('stats', [])\n",
    "    ], [])\n",
    "    \n",
    "    starter_: tuple[int,...] = (0,1) if kwargs.get('starter') is None else (int(kwargs['starter']),)\n",
    "    \n",
    "    df: pd.DataFrame = (fm\n",
    "                        .load_clean_data()\n",
    "                        .pipe(lambda df_: df_.loc[(df_['name'] == name)\n",
    "                                                  & df_['starter'].isin(starter_)\n",
    "                                                 ])\n",
    "                        [stats]\n",
    "                       )\n",
    "    \n",
    "    ov: pd.Series = overview(df)\n",
    "    bins_: int = int(ov['played']) // 1\n",
    "    print(ov)\n",
    "    \n",
    "    plot: str = kwargs.get('plot', 'histogram')\n",
    "    plotkwargs = {kw:arg for kw,arg in kwargs.items() if kw not in ('stats','target', 'starter')}\n",
    "    \n",
    "    plotkwargs = {\n",
    "        **plotkwargs,\n",
    "        **{'figsize': plotkwargs.get('figsize',(15,10)), 'bins': plotkwargs.get('bins', bins_)}\n",
    "    }\n",
    "    \n",
    "    target: str = kwargs.get('target', 'fpts')\n",
    "    \n",
    "    \n",
    "    if plot in ('hist', 'histogram'):\n",
    "        return (df\n",
    "                .plot\n",
    "                .hist(\n",
    "                    column=[target],\n",
    "                    # Nondefault args for hist\n",
    "                    # bins=plotkwargs.get('bins', 7),\n",
    "                    # figsize=figsize,\n",
    "                    **plotkwargs\n",
    "                )\n",
    "               )\n",
    "    \n",
    "    if plot in ('box', 'boxplot'):\n",
    "        return (df\n",
    "                .plot\n",
    "                .box(column=[target],figsize=plotkwargs['figsize'])\n",
    "               )\n",
    "    \n",
    "    return None"
   ]
  },
  {
   "cell_type": "code",
   "execution_count": 4,
   "id": "ab93ef65-8cf4-4ed5-a953-d01675484453",
   "metadata": {},
   "outputs": [
    {
     "name": "stdout",
     "output_type": "stream",
     "text": [
      "name               Anthony Davis\n",
      "team(s)                      LAL\n",
      "played                        36\n",
      "started                       36\n",
      "ceiling                     61.4\n",
      "floor                       40.3\n",
      "med-fpts                   57.15\n",
      "med-mp                     35.22\n",
      "med-fppm                    1.63\n",
      "med-usg                     0.28\n",
      "med-pts                     26.0\n",
      "med-ast                      2.0\n",
      "med-trb                     13.5\n",
      "l10-median-fpts             54.0\n",
      "l10-median-fppm         1.639357\n",
      "l10-median-mp          34.766667\n",
      "l5-median-fpts              56.5\n",
      "l5-median-fppm          1.711069\n",
      "l5-median-mp           31.066667\n",
      "dtype: object\n"
     ]
    },
    {
     "data": {
      "image/png": "[encoded data removed]",
      "text/plain": [
       "<Figure size 1080x720 with 1 Axes>"
      ]
     },
     "metadata": {
      "needs_background": "light"
     },
     "output_type": "display_data"
    }
   ],
   "source": [
    "view_player(\n",
    "    'Anthony Davis',\n",
    "    starter=True,\n",
    "    # plot='box',\n",
    "    # bins=46,\n",
    ");"
   ]
  },
  {
   "cell_type": "code",
   "execution_count": 5,
   "id": "17ded98e-6cc4-4412-92a5-7b7ce0e8696c",
   "metadata": {},
   "outputs": [],
   "source": [
    "def boom_bust(name: str, salary: int, **kwargs) -> tuple[float, float]:\n",
    "    starter_: tuple[int,...] = (0,1) if kwargs.get('starter') is None else (int(kwargs['starter']),)\n",
    "    df: pd.DataFrame = (fm\n",
    "                        .load_clean_data()\n",
    "                        .pipe(lambda df_: df_.loc[(df_['name'] == name)\n",
    "                                                  & df_['starter'].isin(starter_)\n",
    "                                                 ])\n",
    "                        [['name', 'fpts']]\n",
    "                        .set_index('name')\n",
    "                       )\n",
    "    \n",
    "    five_x: float = 5 * (salary / 1000)\n",
    "    total: int = len(df)\n",
    "    \n",
    "    boom: int = len(df.loc[df['fpts']>=five_x+10])\n",
    "    bust: int = len(df.loc[df['fpts']<five_x])\n",
    "    \n",
    "    \n",
    "    return (pd\n",
    "            .Series({'boom': 100*(boom/total), 'bust': 100*(bust/total)})\n",
    "            .round(2)\n",
    "            # .plot\n",
    "            # .barh(figsize=(10,5))\n",
    "           )\n",
    "    \n",
    "    \n",
    "    # return tuple([ 100*(val/total) for val in (boom, bust) ])\n",
    "    \n",
    "    # return df"
   ]
  },
  {
   "cell_type": "code",
   "execution_count": 35,
   "id": "3e34f922-2fd6-4078-aed8-532ff8aa307b",
   "metadata": {},
   "outputs": [
    {
     "data": {
      "text/plain": [
       "boom    14.58\n",
       "bust    66.67\n",
       "dtype: float64"
      ]
     },
     "execution_count": 35,
     "metadata": {},
     "output_type": "execute_result"
    }
   ],
   "source": [
    "boom_bust('Joel Embiid', 11800, starter=True)"
   ]
  },
  {
   "cell_type": "code",
   "execution_count": 7,
   "id": "1e3e78d8-023b-4134-853e-3e8c970831c2",
   "metadata": {},
   "outputs": [
    {
     "data": {
      "text/plain": [
       "boom     8.57\n",
       "bust    74.29\n",
       "dtype: float64"
      ]
     },
     "execution_count": 7,
     "metadata": {},
     "output_type": "execute_result"
    }
   ],
   "source": [
    "boom_bust('Kawhi Leonard', 10000, starter=True)"
   ]
  },
  {
   "cell_type": "code",
   "execution_count": 31,
   "id": "fd9b09f7-caa0-486c-acaa-1bb1c4293c80",
   "metadata": {},
   "outputs": [
    {
     "data": {
      "text/plain": [
       "boom    16.98\n",
       "bust    56.60\n",
       "dtype: float64"
      ]
     },
     "execution_count": 31,
     "metadata": {},
     "output_type": "execute_result"
    }
   ],
   "source": [
    "boom_bust('Luka Doncic', 12000, starter=True)"
   ]
  },
  {
   "cell_type": "code",
   "execution_count": 24,
   "id": "09d8e9ed-5ddd-406e-ba89-c07dae6a0617",
   "metadata": {},
   "outputs": [
    {
     "data": {
      "text/plain": [
       "boom    14.89\n",
       "bust    74.47\n",
       "dtype: float64"
      ]
     },
     "execution_count": 24,
     "metadata": {},
     "output_type": "execute_result"
    }
   ],
   "source": [
    "boom_bust('Paul George', 9000, starter=True)"
   ]
  },
  {
   "cell_type": "code",
   "execution_count": 26,
   "id": "0ff343f3-eace-408b-b8ef-9234f389f779",
   "metadata": {},
   "outputs": [
    {
     "data": {
      "text/plain": [
       "boom     8.47\n",
       "bust    66.10\n",
       "dtype: float64"
      ]
     },
     "execution_count": 26,
     "metadata": {},
     "output_type": "execute_result"
    }
   ],
   "source": [
    "boom_bust('Scottie Barnes', 7800, starter=True)"
   ]
  },
  {
   "cell_type": "code",
   "execution_count": 27,
   "id": "c453ed09-a4fd-4f36-b769-223705e9e77d",
   "metadata": {},
   "outputs": [
    {
     "data": {
      "text/plain": [
       "boom    12.50\n",
       "bust    64.29\n",
       "dtype: float64"
      ]
     },
     "execution_count": 27,
     "metadata": {},
     "output_type": "execute_result"
    }
   ],
   "source": [
    "boom_bust('Kyle Kuzma', 7700, starter=True)"
   ]
  },
  {
   "cell_type": "code",
   "execution_count": 28,
   "id": "4e40777a-c6c4-4d71-917c-3b470c21779b",
   "metadata": {},
   "outputs": [
    {
     "data": {
      "text/plain": [
       "boom    18.87\n",
       "bust    60.38\n",
       "dtype: float64"
      ]
     },
     "execution_count": 28,
     "metadata": {},
     "output_type": "execute_result"
    }
   ],
   "source": [
    "boom_bust('Pascal Siakam', 9300, starter=True)"
   ]
  },
  {
   "cell_type": "code",
   "execution_count": 32,
   "id": "87d4f338-b704-49d5-83e7-ff7e9ec9ae29",
   "metadata": {},
   "outputs": [
    {
     "data": {
      "text/plain": [
       "boom     5.88\n",
       "bust    70.59\n",
       "dtype: float64"
      ]
     },
     "execution_count": 32,
     "metadata": {},
     "output_type": "execute_result"
    }
   ],
   "source": [
    "boom_bust('Donte DiVincenzo', 6500, starter=True)"
   ]
  },
  {
   "cell_type": "code",
   "execution_count": 34,
   "id": "6f99c611-061a-4798-a2de-00f111a5aa54",
   "metadata": {},
   "outputs": [
    {
     "data": {
      "text/plain": [
       "boom    14.04\n",
       "bust    54.39\n",
       "dtype: float64"
      ]
     },
     "execution_count": 34,
     "metadata": {},
     "output_type": "execute_result"
    }
   ],
   "source": [
    "boom_bust('Tobias Harris', 6000, starter=True)"
   ]
  },
  {
   "cell_type": "markdown",
   "id": "8010cef9-324f-4cc6-9823-d6358bf3a1d5",
   "metadata": {},
   "source": [
    "boom_bust('Kristaps Porzingis', 9100, starter=True)"
   ]
  },
  {
   "cell_type": "code",
   "execution_count": 21,
   "id": "f445fd4b-9f3c-49d8-a0a5-4bdd660a6a1a",
   "metadata": {},
   "outputs": [
    {
     "data": {
      "text/plain": [
       "boom    11.36\n",
       "bust    63.64\n",
       "dtype: float64"
      ]
     },
     "execution_count": 21,
     "metadata": {},
     "output_type": "execute_result"
    }
   ],
   "source": [
    "boom_bust('Andrew Nembhard', 4300, starter=True)"
   ]
  },
  {
   "cell_type": "code",
   "execution_count": 20,
   "id": "f737ffee-a246-4d0a-8866-c7b39a47d1ea",
   "metadata": {},
   "outputs": [
    {
     "data": {
      "text/plain": [
       "boom    50.00\n",
       "bust    33.33\n",
       "dtype: float64"
      ]
     },
     "execution_count": 20,
     "metadata": {},
     "output_type": "execute_result"
    }
   ],
   "source": [
    "boom_bust('TJ McConnell', 4700, starter=True)"
   ]
  },
  {
   "cell_type": "code",
   "execution_count": 14,
   "id": "afadca5c-0e89-4561-8829-80f94592b930",
   "metadata": {},
   "outputs": [
    {
     "data": {
      "text/plain": [
       "boom    19.05\n",
       "bust    47.62\n",
       "dtype: float64"
      ]
     },
     "execution_count": 14,
     "metadata": {},
     "output_type": "execute_result"
    }
   ],
   "source": [
    "boom_bust('Buddy Hield', 5900, starter=True)"
   ]
  },
  {
   "cell_type": "code",
   "execution_count": 13,
   "id": "f7ae46b9-c992-42b9-a529-ac261f147350",
   "metadata": {},
   "outputs": [
    {
     "data": {
      "text/plain": [
       "boom     9.43\n",
       "bust    67.92\n",
       "dtype: float64"
      ]
     },
     "execution_count": 13,
     "metadata": {},
     "output_type": "execute_result"
    }
   ],
   "source": [
    "boom_bust('Myles Turner', 8600, starter=True)"
   ]
  },
  {
   "cell_type": "code",
   "execution_count": 12,
   "id": "d7228a54-0783-47d5-a79d-518916e9cda0",
   "metadata": {},
   "outputs": [
    {
     "data": {
      "text/plain": [
       "boom     9.09\n",
       "bust    72.73\n",
       "dtype: float64"
      ]
     },
     "execution_count": 12,
     "metadata": {},
     "output_type": "execute_result"
    }
   ],
   "source": [
    "boom_bust('Aaron Nesmith', 5100, starter=True)"
   ]
  },
  {
   "cell_type": "code",
   "execution_count": 11,
   "id": "4593a79c-4736-4f39-8fa7-04a2f78779e7",
   "metadata": {},
   "outputs": [
    {
     "data": {
      "text/plain": [
       "boom    12.28\n",
       "bust    50.88\n",
       "dtype: float64"
      ]
     },
     "execution_count": 11,
     "metadata": {},
     "output_type": "execute_result"
    }
   ],
   "source": [
    "boom_bust('Bennedict Mathurin', 5200, starter=False)"
   ]
  },
  {
   "cell_type": "code",
   "execution_count": 37,
   "id": "12718c2e-bd1e-4ca0-8be3-8d39b3db338a",
   "metadata": {},
   "outputs": [
    {
     "data": {
      "text/plain": [
       "boom     3.03\n",
       "bust    78.79\n",
       "dtype: float64"
      ]
     },
     "execution_count": 37,
     "metadata": {},
     "output_type": "execute_result"
    }
   ],
   "source": [
    "boom_bust('Josh Green', 4500, starter=False)"
   ]
  },
  {
   "cell_type": "code",
   "execution_count": 36,
   "id": "bbda39d9-0a89-4f3e-b8fe-2b18a8616b1d",
   "metadata": {},
   "outputs": [
    {
     "data": {
      "text/plain": [
       "boom    12.0\n",
       "bust    56.0\n",
       "dtype: float64"
      ]
     },
     "execution_count": 36,
     "metadata": {},
     "output_type": "execute_result"
    }
   ],
   "source": [
    "boom_bust('Deni Avdija', 5400, starter=False)"
   ]
  },
  {
   "cell_type": "code",
   "execution_count": 16,
   "id": "d2fdf307-8f27-49be-8112-71f83ee54ea0",
   "metadata": {},
   "outputs": [
    {
     "data": {
      "text/plain": [
       "boom     7.14\n",
       "bust    71.43\n",
       "dtype: float64"
      ]
     },
     "execution_count": 16,
     "metadata": {},
     "output_type": "execute_result"
    }
   ],
   "source": [
    "boom_bust('Zach Collins', 6800, starter=True)"
   ]
  },
  {
   "cell_type": "code",
   "execution_count": null,
   "id": "093d3566-1bd6-487a-8dda-2df60b441c67",
   "metadata": {},
   "outputs": [],
   "source": []
  }
 ],
 "metadata": {
  "kernelspec": {
   "display_name": "Python 3 (ipykernel)",
   "language": "python",
   "name": "python3"
  },
  "language_info": {
   "codemirror_mode": {
    "name": "ipython",
    "version": 3
   },
   "file_extension": ".py",
   "mimetype": "text/x-python",
   "name": "python",
   "nbconvert_exporter": "python",
   "pygments_lexer": "ipython3",
   "version": "3.10.8"
  }
 },
 "nbformat": 4,
 "nbformat_minor": 5
}
