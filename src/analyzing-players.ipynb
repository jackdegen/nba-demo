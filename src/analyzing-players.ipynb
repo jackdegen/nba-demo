{
 "cells": [
  {
   "cell_type": "code",
   "execution_count": 1,
   "id": "57b3dc7d-4e06-48ac-ab7a-62a905eff8b4",
   "metadata": {},
   "outputs": [],
   "source": [
    "import numpy as np\n",
    "import pandas as pd\n",
    "\n",
    "from tqdm.notebook import tqdm\n",
    "\n",
    "from file_manager import FileManager\n",
    "fm = FileManager()"
   ]
  },
  {
   "cell_type": "code",
   "execution_count": 2,
   "id": "09ba4373-688e-421a-aeb9-4bee6eddff35",
   "metadata": {},
   "outputs": [],
   "source": [
    "# Pass in player dataframe\n",
    "def overview(df: pd.DataFrame):\n",
    "    infocols: list[str,...] = ['date', 'name', 'team', 'opp', 'starter']\n",
    "    statcols: list[str,...] = [col for col in df.columns if col not in infocols]\n",
    "\n",
    "    last10: list[str,...] = list((df\n",
    "                                  .sort_values('date', ascending=False)\n",
    "                                  ['date']\n",
    "                                 ))[:10]\n",
    "    \n",
    "    last5: list[str,...] = last10[:5]\n",
    "    \n",
    "    # overview\n",
    "    ov: dict[str,str|int|float] = {\n",
    "        'name': df['name'].drop_duplicates().item(),\n",
    "        'team(s)': ','.join(df['team'].drop_duplicates()),\n",
    "        'played': len(df),\n",
    "        'started': len(df.loc[df['starter']==1])\n",
    "    }\n",
    "    \n",
    "    distro: pd.Series = df['fpts'].describe().round(1)\n",
    "    \n",
    "    ov: dict[str, str|int|float] = {\n",
    "        **ov,\n",
    "        **{'ceiling': distro['75%'],'floor': distro['25%']},\n",
    "        **{f'med-{stat}': np.median(df[stat]).round(2) for stat in statcols},\n",
    "        **{\n",
    "            f'l10-median-{stat}': np.median(df.loc[df['date'].isin(last10),stat]) \n",
    "            for stat in ('fpts', 'fppm', 'mp')\n",
    "        },\n",
    "        **{\n",
    "            f'l5-median-{stat}': np.median(df.loc[df['date'].isin(last5),stat]) \n",
    "            for stat in ('fpts', 'fppm', 'mp')\n",
    "        }\n",
    "    }\n",
    "    \n",
    "    return pd.Series(ov)"
   ]
  },
  {
   "cell_type": "code",
   "execution_count": 3,
   "id": "3b33ee7f-5106-4115-82b7-2f5d1f85c118",
   "metadata": {
    "tags": []
   },
   "outputs": [],
   "source": [
    "# Return graph of player outcomes\n",
    "def view_player(name: str, **kwargs):\n",
    "    \n",
    "    columns: list[str,...] = [\n",
    "        'date',\n",
    "        'name',\n",
    "        'team',\n",
    "        'opp',\n",
    "        'fpts',\n",
    "        'mp',\n",
    "        'fppm',\n",
    "        'usg',\n",
    "        'pts',\n",
    "        'ast',\n",
    "        'trb',\n",
    "        'starter'\n",
    "    ]\n",
    "    \n",
    "    stats: list[str,...] = sum([\n",
    "        columns,\n",
    "        kwargs.get('stats', [])\n",
    "    ], [])\n",
    "    \n",
    "    starter_: tuple[int,...] = (0,1) if kwargs.get('starter') is None else (int(kwargs['starter']),)\n",
    "    \n",
    "    df: pd.DataFrame = (fm\n",
    "                        .load_clean_data()\n",
    "                        .pipe(lambda df_: df_.loc[(df_['name'] == name)\n",
    "                                                  & df_['starter'].isin(starter_)\n",
    "                                                 ])\n",
    "                        [stats]\n",
    "                       )\n",
    "    \n",
    "    \n",
    "    ov: pd.Series = overview(df)\n",
    "    bins_: int = int(ov['played']) // 1\n",
    "    print(ov)\n",
    "    \n",
    "    plot: str = kwargs.get('plot', 'histogram')\n",
    "    plotkwargs = {kw:arg for kw,arg in kwargs.items() if kw not in ('stats','target', 'starter')}\n",
    "    \n",
    "    plotkwargs = {\n",
    "        **plotkwargs,\n",
    "        **{'figsize': plotkwargs.get('figsize',(15,10)), 'bins': plotkwargs.get('bins', bins_)}\n",
    "    }\n",
    "    \n",
    "    target: str = kwargs.get('target', 'fpts')\n",
    "    \n",
    "    \n",
    "    if plot in ('hist', 'histogram'):\n",
    "        return (df\n",
    "                .plot\n",
    "                .hist(\n",
    "                    column=[target],\n",
    "                    # Nondefault args for hist\n",
    "                    # bins=plotkwargs.get('bins', 7),\n",
    "                    # figsize=figsize,\n",
    "                    **plotkwargs\n",
    "                )\n",
    "               )\n",
    "    \n",
    "    if plot in ('box', 'boxplot'):\n",
    "        return (df\n",
    "                .plot\n",
    "                .box(column=[target],figsize=plotkwargs['figsize'])\n",
    "               )\n",
    "    \n",
    "    return None"
   ]
  },
  {
   "cell_type": "code",
   "execution_count": 4,
   "id": "ab93ef65-8cf4-4ed5-a953-d01675484453",
   "metadata": {},
   "outputs": [
    {
     "name": "stdout",
     "output_type": "stream",
     "text": [
      "name               Kelly Oubre\n",
      "team(s)                    CHA\n",
      "played                      30\n",
      "started                     30\n",
      "ceiling                   40.6\n",
      "floor                     27.0\n",
      "med-fpts                  35.9\n",
      "med-mp                   34.09\n",
      "med-fppm                  1.02\n",
      "med-usg                   0.26\n",
      "med-pts                   20.0\n",
      "med-ast                    1.0\n",
      "med-trb                    5.0\n",
      "l10-median-fpts           38.9\n",
      "l10-median-fppm       1.076448\n",
      "l10-median-mp           38.175\n",
      "l5-median-fpts            41.1\n",
      "l5-median-fppm        1.113318\n",
      "l5-median-mp         37.133333\n",
      "dtype: object\n"
     ]
    },
    {
     "data": {
      "image/png": "[encoded data removed]",
      "text/plain": [
       "<Figure size 1080x720 with 1 Axes>"
      ]
     },
     "metadata": {
      "needs_background": "light"
     },
     "output_type": "display_data"
    }
   ],
   "source": [
    "view_player(\n",
    "    'Kelly Oubre',\n",
    "    starter=True,\n",
    "    # plot='box',\n",
    "    # bins=46,\n",
    ");"
   ]
  },
  {
   "cell_type": "code",
   "execution_count": 11,
   "id": "17ded98e-6cc4-4412-92a5-7b7ce0e8696c",
   "metadata": {},
   "outputs": [],
   "source": []
  },
  {
   "cell_type": "code",
   "execution_count": 27,
   "id": "3e34f922-2fd6-4078-aed8-532ff8aa307b",
   "metadata": {},
   "outputs": [
    {
     "data": {
      "text/plain": [
       "boom    13.64\n",
       "bust    61.36\n",
       "dtype: float64"
      ]
     },
     "execution_count": 27,
     "metadata": {},
     "output_type": "execute_result"
    }
   ],
   "source": [
    "boom_bust('James Harden', 10100, starter=True)"
   ]
  }
 ],
 "metadata": {
  "kernelspec": {
   "display_name": "Python 3 (ipykernel)",
   "language": "python",
   "name": "python3"
  },
  "language_info": {
   "codemirror_mode": {
    "name": "ipython",
    "version": 3
   },
   "file_extension": ".py",
   "mimetype": "text/x-python",
   "name": "python",
   "nbconvert_exporter": "python",
   "pygments_lexer": "ipython3",
   "version": "3.10.8"
  }
 },
 "nbformat": 4,
 "nbformat_minor": 5
}
