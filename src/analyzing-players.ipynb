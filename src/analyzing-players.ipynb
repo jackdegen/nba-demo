{
 "cells": [
  {
   "cell_type": "code",
   "execution_count": 1,
   "id": "57b3dc7d-4e06-48ac-ab7a-62a905eff8b4",
   "metadata": {},
   "outputs": [],
   "source": [
    "import numpy as np\n",
    "import pandas as pd\n",
    "\n",
    "from tqdm.notebook import tqdm\n",
    "\n",
    "from file_manager import FileManager\n",
    "fm = FileManager()"
   ]
  },
  {
   "cell_type": "code",
   "execution_count": 2,
   "id": "09ba4373-688e-421a-aeb9-4bee6eddff35",
   "metadata": {},
   "outputs": [],
   "source": [
    "# Pass in player dataframe\n",
    "def overview(df: pd.DataFrame):\n",
    "    infocols: list[str,...] = ['date', 'name', 'team', 'opp', 'starter']\n",
    "    statcols: list[str,...] = [col for col in df.columns if col not in infocols]\n",
    "\n",
    "    last10: list[str,...] = list((df\n",
    "                                  .sort_values('date', ascending=False)\n",
    "                                  ['date']\n",
    "                                 ))[:10]\n",
    "    \n",
    "    last5: list[str,...] = last10[:5]\n",
    "    \n",
    "    # overview\n",
    "    ov: dict[str,str|int|float] = {\n",
    "        'name': df['name'].drop_duplicates().item(),\n",
    "        'team(s)': ','.join(df['team'].drop_duplicates()),\n",
    "        'played': len(df),\n",
    "        'started': len(df.loc[df['starter']==1])\n",
    "    }\n",
    "    \n",
    "    distro: pd.Series = df['fpts'].describe().round(1)\n",
    "    \n",
    "    ov: dict[str, str|int|float] = {\n",
    "        **ov,\n",
    "        **{'ceiling': distro['75%'],'floor': distro['25%']},\n",
    "        **{f'med-{stat}': np.median(df[stat]).round(2) for stat in statcols},\n",
    "        **{\n",
    "            f'l10-median-{stat}': np.median(df.loc[df['date'].isin(last10),stat]) \n",
    "            for stat in ('fpts', 'fppm', 'mp')\n",
    "        },\n",
    "        **{\n",
    "            f'l5-median-{stat}': np.median(df.loc[df['date'].isin(last5),stat]) \n",
    "            for stat in ('fpts', 'fppm', 'mp')\n",
    "        }\n",
    "    }\n",
    "    \n",
    "    return pd.Series(ov)"
   ]
  },
  {
   "cell_type": "code",
   "execution_count": 30,
   "id": "3b33ee7f-5106-4115-82b7-2f5d1f85c118",
   "metadata": {
    "tags": []
   },
   "outputs": [],
   "source": [
    "# Return graph of player outcomes\n",
    "def view_player(name: str, **kwargs):\n",
    "    \n",
    "    columns: list[str,...] = [\n",
    "        'date',\n",
    "        'name',\n",
    "        'team',\n",
    "        'opp',\n",
    "        'fpts',\n",
    "        'mp',\n",
    "        'fppm',\n",
    "        'usg',\n",
    "        'pts',\n",
    "        'ast',\n",
    "        'trb',\n",
    "        'starter'\n",
    "    ]\n",
    "    \n",
    "    stats: list[str,...] = sum([\n",
    "        columns,\n",
    "        kwargs.get('stats', [])\n",
    "    ], [])\n",
    "    \n",
    "    starter_: tuple[int,...] = (0,1) if kwargs.get('starter') is None else (int(kwargs['starter']),)\n",
    "    \n",
    "    df: pd.DataFrame = (fm\n",
    "                        .load_clean_data()\n",
    "                        .pipe(lambda df_: df_.loc[(df_['name'] == name)\n",
    "                                                  & df_['starter'].isin(starter_)\n",
    "                                                 ])\n",
    "                        [stats]\n",
    "                       )\n",
    "    \n",
    "    \n",
    "    ov: pd.Series = overview(df)\n",
    "    bins_: int = int(ov['played']) // 2\n",
    "    print(ov)\n",
    "    \n",
    "    plot: str = kwargs.get('plot', 'histogram')\n",
    "    plotkwargs = {kw:arg for kw,arg in kwargs.items() if kw not in ('stats','target', 'starter')}\n",
    "    \n",
    "    plotkwargs = {\n",
    "        **plotkwargs,\n",
    "        **{'figsize': plotkwargs.get('figsize',(15,10)), 'bins': plotkwargs.get('bins', bins_)}\n",
    "    }\n",
    "    \n",
    "    target: str = kwargs.get('target', 'fpts')\n",
    "    \n",
    "    \n",
    "    if plot in ('hist', 'histogram'):\n",
    "        return (df\n",
    "                .plot\n",
    "                .hist(\n",
    "                    column=[target],\n",
    "                    # Nondefault args for hist\n",
    "                    # bins=plotkwargs.get('bins', 7),\n",
    "                    # figsize=figsize,\n",
    "                    **plotkwargs\n",
    "                )\n",
    "               )\n",
    "    \n",
    "    if plot in ('box', 'boxplot'):\n",
    "        return (df\n",
    "                .plot\n",
    "                .box(column=[target],figsize=plotkwargs['figsize'])\n",
    "               )\n",
    "    \n",
    "    return None"
   ]
  },
  {
   "cell_type": "code",
   "execution_count": 31,
   "id": "ab93ef65-8cf4-4ed5-a953-d01675484453",
   "metadata": {},
   "outputs": [
    {
     "name": "stdout",
     "output_type": "stream",
     "text": [
      "name               Damian Lillard\n",
      "team(s)                       POR\n",
      "played                         46\n",
      "started                        46\n",
      "ceiling                      54.7\n",
      "floor                        39.0\n",
      "med-fpts                     51.0\n",
      "med-mp                      37.25\n",
      "med-fppm                     1.32\n",
      "med-usg                      0.33\n",
      "med-pts                      30.5\n",
      "med-ast                       8.0\n",
      "med-trb                       4.0\n",
      "l10-median-fpts             53.45\n",
      "l10-median-fppm          1.409066\n",
      "l10-median-mp              38.375\n",
      "l5-median-fpts               54.7\n",
      "l5-median-fppm            1.47541\n",
      "l5-median-mp            35.916667\n",
      "dtype: object\n"
     ]
    },
    {
     "data": {
      "image/png": "[encoded data removed]",
      "text/plain": [
       "<Figure size 1080x720 with 1 Axes>"
      ]
     },
     "metadata": {
      "needs_background": "light"
     },
     "output_type": "display_data"
    }
   ],
   "source": [
    "view_player(\n",
    "    'Damian Lillard',\n",
    "    # starter=True,\n",
    "    # plot='box',\n",
    "    # bins=46,\n",
    ");"
   ]
  },
  {
   "cell_type": "code",
   "execution_count": 32,
   "id": "a81fbd77-384a-4a4a-b587-da4092ac5c40",
   "metadata": {},
   "outputs": [
    {
     "name": "stdout",
     "output_type": "stream",
     "text": [
      "name               Jordan Poole\n",
      "team(s)                      GS\n",
      "played                       37\n",
      "started                      37\n",
      "ceiling                    42.6\n",
      "floor                      28.9\n",
      "med-fpts                   34.5\n",
      "med-mp                    32.58\n",
      "med-fppm                   1.02\n",
      "med-usg                     0.3\n",
      "med-pts                    24.0\n",
      "med-ast                     4.0\n",
      "med-trb                     3.0\n",
      "l10-median-fpts            33.0\n",
      "l10-median-fppm        1.105476\n",
      "l10-median-mp         30.933333\n",
      "l5-median-fpts             28.4\n",
      "l5-median-fppm         0.937931\n",
      "l5-median-mp          30.966667\n",
      "dtype: object\n"
     ]
    },
    {
     "data": {
      "image/png": "[encoded data removed]",
      "text/plain": [
       "<Figure size 1080x720 with 1 Axes>"
      ]
     },
     "metadata": {
      "needs_background": "light"
     },
     "output_type": "display_data"
    }
   ],
   "source": [
    "view_player(\n",
    "    'Jordan Poole',\n",
    "    starter=True,\n",
    "    # plot='box',\n",
    "    # bins=5,\n",
    "    # width=10\n",
    ");"
   ]
  },
  {
   "cell_type": "code",
   "execution_count": 33,
   "id": "866b9e75-2444-49c6-843e-919ef784285d",
   "metadata": {},
   "outputs": [
    {
     "name": "stdout",
     "output_type": "stream",
     "text": [
      "name               Rudy Gobert\n",
      "team(s)                    MIN\n",
      "played                      51\n",
      "started                     51\n",
      "ceiling                   41.8\n",
      "floor                     25.3\n",
      "med-fpts                  32.6\n",
      "med-mp                    31.5\n",
      "med-fppm                   1.1\n",
      "med-usg                   0.16\n",
      "med-pts                   15.0\n",
      "med-ast                    1.0\n",
      "med-trb                   12.0\n",
      "l10-median-fpts           34.2\n",
      "l10-median-fppm       1.095756\n",
      "l10-median-mp           29.875\n",
      "l5-median-fpts            36.3\n",
      "l5-median-fppm        1.221537\n",
      "l5-median-mp         29.716667\n",
      "dtype: object\n"
     ]
    },
    {
     "data": {
      "image/png": "[encoded data removed]",
      "text/plain": [
       "<Figure size 1080x720 with 1 Axes>"
      ]
     },
     "metadata": {
      "needs_background": "light"
     },
     "output_type": "display_data"
    }
   ],
   "source": [
    "view_player(\n",
    "    'Rudy Gobert',\n",
    "    # starter=False,\n",
    "    # plot='box',\n",
    "    # bins=5,\n",
    "    # width=10\n",
    ");"
   ]
  },
  {
   "cell_type": "code",
   "execution_count": 46,
   "id": "5a2fc16d-9629-4404-95ea-54fdd086e9d7",
   "metadata": {},
   "outputs": [
    {
     "name": "stdout",
     "output_type": "stream",
     "text": [
      "name               Nicolas Batum\n",
      "team(s)                      LAC\n",
      "played                        47\n",
      "started                        0\n",
      "ceiling                     22.0\n",
      "floor                        8.4\n",
      "med-fpts                    14.9\n",
      "med-mp                      21.1\n",
      "med-fppm                    0.72\n",
      "med-usg                     0.12\n",
      "med-pts                      4.0\n",
      "med-ast                      1.0\n",
      "med-trb                      4.0\n",
      "l10-median-fpts            13.35\n",
      "l10-median-fppm         0.685704\n",
      "l10-median-mp          24.983333\n",
      "l5-median-fpts               8.4\n",
      "l5-median-fppm          0.881119\n",
      "l5-median-mp           24.016667\n",
      "dtype: object\n"
     ]
    },
    {
     "data": {
      "image/png": "[encoded data removed]",
      "text/plain": [
       "<Figure size 1080x720 with 1 Axes>"
      ]
     },
     "metadata": {
      "needs_background": "light"
     },
     "output_type": "display_data"
    }
   ],
   "source": [
    "view_player(\n",
    "    'Nicolas Batum',\n",
    "    starter=False,\n",
    "    # plot='box',\n",
    "    # bins=5,\n",
    "    # width=10\n",
    ");"
   ]
  },
  {
   "cell_type": "code",
   "execution_count": 48,
   "id": "606651c0-b6ef-4a5b-b1ed-0824284beb12",
   "metadata": {},
   "outputs": [
    {
     "name": "stdout",
     "output_type": "stream",
     "text": [
      "name               Shaedon Sharpe\n",
      "team(s)                       POR\n",
      "played                         53\n",
      "started                         0\n",
      "ceiling                      16.7\n",
      "floor                         9.1\n",
      "med-fpts                     12.7\n",
      "med-mp                       19.4\n",
      "med-fppm                     0.65\n",
      "med-usg                      0.16\n",
      "med-pts                       7.0\n",
      "med-ast                       0.0\n",
      "med-trb                       2.0\n",
      "l10-median-fpts              15.9\n",
      "l10-median-fppm          0.663769\n",
      "l10-median-mp           23.216667\n",
      "l5-median-fpts               23.4\n",
      "l5-median-fppm           1.053061\n",
      "l5-median-mp            25.566667\n",
      "dtype: object\n"
     ]
    },
    {
     "data": {
      "image/png": "[encoded data removed]",
      "text/plain": [
       "<Figure size 1080x720 with 1 Axes>"
      ]
     },
     "metadata": {
      "needs_background": "light"
     },
     "output_type": "display_data"
    }
   ],
   "source": [
    "view_player(\n",
    "    'Shaedon Sharpe',\n",
    "    starter=False,\n",
    "    # plot='box',\n",
    "    # bins=5,\n",
    "    # width=10\n",
    ");"
   ]
  },
  {
   "cell_type": "code",
   "execution_count": 49,
   "id": "ee16ca19-82e2-44f7-ac61-783954ca6546",
   "metadata": {},
   "outputs": [
    {
     "name": "stdout",
     "output_type": "stream",
     "text": [
      "name               Nassir Little\n",
      "team(s)                      POR\n",
      "played                        36\n",
      "started                        0\n",
      "ceiling                     15.9\n",
      "floor                        6.7\n",
      "med-fpts                   12.15\n",
      "med-mp                     15.06\n",
      "med-fppm                    0.73\n",
      "med-usg                     0.15\n",
      "med-pts                      6.0\n",
      "med-ast                      1.0\n",
      "med-trb                      2.0\n",
      "l10-median-fpts            12.85\n",
      "l10-median-fppm         0.634795\n",
      "l10-median-mp             16.525\n",
      "l5-median-fpts              15.5\n",
      "l5-median-fppm          0.708633\n",
      "l5-median-mp           24.633333\n",
      "dtype: object\n"
     ]
    },
    {
     "data": {
      "image/png": "[encoded data removed]",
      "text/plain": [
       "<Figure size 1080x720 with 1 Axes>"
      ]
     },
     "metadata": {
      "needs_background": "light"
     },
     "output_type": "display_data"
    }
   ],
   "source": [
    "view_player(\n",
    "    'Nassir Little',\n",
    "    starter=False,\n",
    "    # plot='box',\n",
    "    # bins=5,\n",
    "    # width=10\n",
    ");"
   ]
  },
  {
   "cell_type": "code",
   "execution_count": null,
   "id": "5d8e1db8-9ff2-4e0f-b95a-a156ef607e26",
   "metadata": {},
   "outputs": [],
   "source": []
  },
  {
   "cell_type": "code",
   "execution_count": null,
   "id": "17ded98e-6cc4-4412-92a5-7b7ce0e8696c",
   "metadata": {},
   "outputs": [],
   "source": []
  },
  {
   "cell_type": "code",
   "execution_count": null,
   "id": "8b7c9abe-f48f-4a69-ae07-f841e282623e",
   "metadata": {},
   "outputs": [],
   "source": []
  }
 ],
 "metadata": {
  "kernelspec": {
   "display_name": "Python 3 (ipykernel)",
   "language": "python",
   "name": "python3"
  },
  "language_info": {
   "codemirror_mode": {
    "name": "ipython",
    "version": 3
   },
   "file_extension": ".py",
   "mimetype": "text/x-python",
   "name": "python",
   "nbconvert_exporter": "python",
   "pygments_lexer": "ipython3",
   "version": "3.10.8"
  }
 },
 "nbformat": 4,
 "nbformat_minor": 5
}
