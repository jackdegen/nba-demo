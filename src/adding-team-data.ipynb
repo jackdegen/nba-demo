{
 "cells": [
  {
   "cell_type": "code",
   "execution_count": 1,
   "id": "transsexual-papua",
   "metadata": {},
   "outputs": [],
   "source": [
    "import pandas as pd\n",
    "import numpy as np"
   ]
  },
  {
   "cell_type": "code",
   "execution_count": 2,
   "id": "interim-caribbean",
   "metadata": {},
   "outputs": [],
   "source": [
    "import requests\n",
    "from bs4 import BeautifulSoup\n",
    "\n",
    "url = 'https://www.basketball-reference.com/boxscores/202302140LAC.html'\n",
    "\n",
    "page = requests.get(url)\n",
    "\n",
    "\n",
    "\n",
    "soup = BeautifulSoup(page.text, 'html.parser')\n"
   ]
  },
  {
   "cell_type": "code",
   "execution_count": 3,
   "id": "collaborative-fitting",
   "metadata": {},
   "outputs": [],
   "source": [
    "stat_tables = soup.find_all('table',limit=4)"
   ]
  },
  {
   "cell_type": "code",
   "execution_count": 15,
   "id": "collectible-pension",
   "metadata": {},
   "outputs": [
    {
     "data": {
      "text/plain": [
       "[]"
      ]
     },
     "execution_count": 15,
     "metadata": {},
     "output_type": "execute_result"
    }
   ],
   "source": [
    "soup.find_all('div', {'class': 'table_container is_setup'})"
   ]
  },
  {
   "cell_type": "code",
   "execution_count": null,
   "id": "civic-chicago",
   "metadata": {},
   "outputs": [],
   "source": [
    "page.text"
   ]
  },
  {
   "cell_type": "code",
   "execution_count": 12,
   "id": "unlike-religious",
   "metadata": {},
   "outputs": [],
   "source": [
    "# page.text.replace('suppress_all stats_table', '')"
   ]
  },
  {
   "cell_type": "code",
   "execution_count": null,
   "id": "assisted-eating",
   "metadata": {},
   "outputs": [],
   "source": []
  }
 ],
 "metadata": {
  "kernelspec": {
   "display_name": "Python 3",
   "language": "python",
   "name": "python3"
  },
  "language_info": {
   "codemirror_mode": {
    "name": "ipython",
    "version": 3
   },
   "file_extension": ".py",
   "mimetype": "text/x-python",
   "name": "python",
   "nbconvert_exporter": "python",
   "pygments_lexer": "ipython3",
   "version": "3.9.1"
  }
 },
 "nbformat": 4,
 "nbformat_minor": 5
}
