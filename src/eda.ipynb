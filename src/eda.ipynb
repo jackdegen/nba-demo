{
 "cells": [
  {
   "cell_type": "code",
   "execution_count": 1,
   "id": "b84046fc-bd43-49e1-b55a-58ad57fa252f",
   "metadata": {},
   "outputs": [],
   "source": [
    "import os\n",
    "import numpy as np\n",
    "import pandas as pd\n",
    "import matplotlib.pyplot as plt\n",
    "import seaborn as sns\n",
    "\n",
    "from tqdm.notebook import tqdm"
   ]
  },
  {
   "cell_type": "code",
   "execution_count": 2,
   "id": "ce3b18e3-4bfb-4516-a440-4eca31482496",
   "metadata": {},
   "outputs": [],
   "source": [
    "def clean_path() -> str:\n",
    "    return '/'.join([\n",
    "        os.getcwd().replace('src', 'data'),\n",
    "        'season-data-clean.csv'\n",
    "    ])\n",
    "\n",
    "def load_clean() -> pd.DataFrame:\n",
    "    return pd.read_csv(clean_path())"
   ]
  },
  {
   "cell_type": "code",
   "execution_count": 3,
   "id": "cd0444dc-721b-47aa-b31d-976fa6563457",
   "metadata": {},
   "outputs": [
    {
     "name": "stdout",
     "output_type": "stream",
     "text": [
      "<class 'pandas.core.frame.DataFrame'>\n",
      "RangeIndex: 18362 entries, 0 to 18361\n",
      "Data columns (total 50 columns):\n",
      " #   Column      Non-Null Count  Dtype  \n",
      "---  ------      --------------  -----  \n",
      " 0   date        18362 non-null  object \n",
      " 1   name        18362 non-null  object \n",
      " 2   team        18362 non-null  object \n",
      " 3   opp         18362 non-null  object \n",
      " 4   fpts        18362 non-null  float64\n",
      " 5   mp          18362 non-null  float64\n",
      " 6   fppm        18362 non-null  float64\n",
      " 7   home        18362 non-null  int64  \n",
      " 8   w           18362 non-null  object \n",
      " 9   w_pts       18362 non-null  int64  \n",
      " 10  l           18362 non-null  object \n",
      " 11  l_pts       18362 non-null  int64  \n",
      " 12  injury      18362 non-null  int64  \n",
      " 13  starter     18362 non-null  int64  \n",
      " 14  fg          18362 non-null  int64  \n",
      " 15  fga         18362 non-null  int64  \n",
      " 16  fg_perc     18362 non-null  float64\n",
      " 17  3p          18362 non-null  int64  \n",
      " 18  3pa         18362 non-null  int64  \n",
      " 19  3p_perc     18362 non-null  float64\n",
      " 20  ft          18362 non-null  int64  \n",
      " 21  fta         18362 non-null  int64  \n",
      " 22  ft_perc     18362 non-null  float64\n",
      " 23  orb         18362 non-null  int64  \n",
      " 24  drb         18362 non-null  int64  \n",
      " 25  trb         18362 non-null  int64  \n",
      " 26  ast         18362 non-null  int64  \n",
      " 27  stl         18362 non-null  int64  \n",
      " 28  blk         18362 non-null  int64  \n",
      " 29  tov         18362 non-null  int64  \n",
      " 30  pf          18362 non-null  int64  \n",
      " 31  pts         18362 non-null  int64  \n",
      " 32  plus_minus  18362 non-null  float64\n",
      " 33  ts          18362 non-null  float64\n",
      " 34  efg         18362 non-null  float64\n",
      " 35  3par        18362 non-null  float64\n",
      " 36  ftr         18362 non-null  float64\n",
      " 37  orb_perc    18362 non-null  float64\n",
      " 38  drb_perc    18362 non-null  float64\n",
      " 39  trb_perc    18362 non-null  float64\n",
      " 40  ast_perc    18362 non-null  float64\n",
      " 41  stl_perc    18362 non-null  float64\n",
      " 42  blk_perc    18362 non-null  float64\n",
      " 43  tov_perc    18362 non-null  float64\n",
      " 44  usg         18362 non-null  float64\n",
      " 45  ortg        18362 non-null  float64\n",
      " 46  drtg        18362 non-null  float64\n",
      " 47  bpm         18362 non-null  float64\n",
      " 48  total_pts   18362 non-null  int64  \n",
      " 49  pts_diff    18362 non-null  int64  \n",
      "dtypes: float64(22), int64(22), object(6)\n",
      "memory usage: 7.0+ MB\n"
     ]
    }
   ],
   "source": [
    "load_clean().info()"
   ]
  },
  {
   "cell_type": "code",
   "execution_count": 10,
   "id": "19bb8b8d-d11c-48c4-a414-b02a43414be3",
   "metadata": {},
   "outputs": [],
   "source": [
    "corr_cols: list[str,...] = ['fpts', 'mp', 'fppm', 'usg', 'fga','pts', 'ast']\n",
    "corr_df: pd.DataFrame = load_clean()[corr_cols]\n",
    "\n",
    "corr_df['mp*usg']=corr_df['mp']*corr_df['usg']\n",
    "corr_cols.append('mp*usg')\n",
    "\n",
    "corr = corr_df.corr()\n",
    "mask = np.triu(np.ones_like(corr, dtype=bool))"
   ]
  },
  {
   "cell_type": "code",
   "execution_count": 11,
   "id": "55dbf950-8604-4b6c-8498-a030ddd272ea",
   "metadata": {},
   "outputs": [
    {
     "data": {
      "image/png": "[encoded data removed]",
      "text/plain": [
       "<Figure size 1080x720 with 2 Axes>"
      ]
     },
     "metadata": {
      "needs_background": "light"
     },
     "output_type": "display_data"
    }
   ],
   "source": [
    "fig, ax = plt.subplots(figsize=(15,10))\n",
    "\n",
    "sns.heatmap(\n",
    "    corr,\n",
    "    mask=mask,\n",
    "    cmap='jet_r',\n",
    "    vmin=0.4,\n",
    "    vmax=1.0\n",
    ");"
   ]
  },
  {
   "cell_type": "code",
   "execution_count": null,
   "id": "cbd2e737-4d19-47e6-9497-efbbd4455c43",
   "metadata": {},
   "outputs": [],
   "source": []
  }
 ],
 "metadata": {
  "kernelspec": {
   "display_name": "Python 3 (ipykernel)",
   "language": "python",
   "name": "python3"
  },
  "language_info": {
   "codemirror_mode": {
    "name": "ipython",
    "version": 3
   },
   "file_extension": ".py",
   "mimetype": "text/x-python",
   "name": "python",
   "nbconvert_exporter": "python",
   "pygments_lexer": "ipython3",
   "version": "3.10.8"
  }
 },
 "nbformat": 4,
 "nbformat_minor": 5
}
