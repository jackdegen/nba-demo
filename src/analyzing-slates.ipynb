{
 "cells": [
  {
   "cell_type": "markdown",
   "id": "later-found",
   "metadata": {},
   "source": [
    "#### Note: \n",
    "\n",
    "- Slate is defined as that day of daily fantasy competitions, pretty much synonymous with date --> slate is all games played that day\n",
    "- For the time being, this dataset will not accomodate unusual schedules as it does not include start times for games, so it will just include all games played that day.\n",
    "    - `slate_size` is going to be a column to refer to how many games were played on a given day, i.e. the number of teams for each day divided by 2\n",
    "    - This will be useful to analyze patterns in optimal lineups, for example:\n",
    "        - How many players from a team / game would one want to include in their 9-player lineup\n",
    "        - Is it better to focus on certain games and ignore others, or is it better to try and have the best players from each team\n",
    "        - How much of an impact does `total_pts` and `diff_score` have on fpts outcomes"
   ]
  },
  {
   "cell_type": "code",
   "execution_count": null,
   "id": "toxic-qualification",
   "metadata": {},
   "outputs": [],
   "source": [
    "import pandas as pd\n",
    "import numpy as np\n",
    "\n",
    "# pandas settings....\n",
    "\n",
    "from file_manager import FileManager\n",
    "fm = FileManager()"
   ]
  },
  {
   "cell_type": "code",
   "execution_count": 76,
   "id": "mediterranean-eclipse",
   "metadata": {},
   "outputs": [],
   "source": [
    "def categorizing_slates(**kwargs):\n",
    "    df: pd.DataFrame = fm.load_clean_data()\n",
    "\n",
    "    ret = (df\n",
    "           .drop_duplicates(['date', 'team'])\n",
    "           .groupby('date')\n",
    "           ['team']\n",
    "           .agg(['count'])\n",
    "          )\n",
    "    \n",
    "    slate_sizes = {date: ret.loc[date, 'count'] // 2 for date in ret.index}\n",
    "    \n",
    "    for date, size in slate_sizes.items():\n",
    "        df.loc[df['date']==date, 'slate_size'] = size\n",
    "    \n",
    "    df['slate_size'] = df['slate_size'].astype('uint8')\n",
    "    \n",
    "    # Categorize slates by quartile, excluding slates which include single game as that is different format\n",
    "    \n",
    "    df: pd.DataFrame = df.loc[df['slate_size']>1]\n",
    "    \n",
    "    slate_descrip = df['slate_size'].describe()\n",
    "    \n",
    "    slate_nums_categories = {\n",
    "        tuple(range(*(int(slate_descrip['min']), int(slate_descrip['25%'])))): 1, # first element will always be 2\n",
    "        tuple(range(*(int(slate_descrip['25%']), int(slate_descrip['50%'])))): 2,\n",
    "        tuple(range(*(int(slate_descrip['50%']), int(slate_descrip['75%'])))): 3,\n",
    "        tuple(range(*(int(slate_descrip['75%']), int(slate_descrip['max'])+1))): 4,\n",
    "        \n",
    "    }\n",
    "    \n",
    "    for nums, cat in slate_nums_categories.items():\n",
    "        df.loc[ df['slate_size'].isin(nums), 'slate_cat' ] = cat\n",
    "    \n",
    "    df['slate_cat'] = df['slate_cat'].astype('uint8')\n",
    "    \n",
    "    # Also be useful to label each matchup to see if some games command disproportionate amounts of fantasy points\n",
    "    df['matchup'] = tuple(zip(df['team'], df['opp']))\n",
    "    df['matchup'] = df['matchup'].map(lambda x: tuple(sorted(x)))\n",
    "    \n",
    "    \n",
    "    fm.save_dataframe(df, 'season-data-slates')\n",
    "    \n",
    "    return None"
   ]
  },
  {
   "cell_type": "code",
   "execution_count": null,
   "id": "computational-justice",
   "metadata": {},
   "outputs": [],
   "source": [
    "categorizing_slates()"
   ]
  },
  {
   "cell_type": "code",
   "execution_count": null,
   "id": "solid-account",
   "metadata": {},
   "outputs": [],
   "source": []
  }
 ],
 "metadata": {
  "kernelspec": {
   "display_name": "Python 3",
   "language": "python",
   "name": "python3"
  },
  "language_info": {
   "codemirror_mode": {
    "name": "ipython",
    "version": 3
   },
   "file_extension": ".py",
   "mimetype": "text/x-python",
   "name": "python",
   "nbconvert_exporter": "python",
   "pygments_lexer": "ipython3",
   "version": "3.9.1"
  }
 },
 "nbformat": 4,
 "nbformat_minor": 5
}
