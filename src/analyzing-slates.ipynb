{
 "cells": [
  {
   "cell_type": "markdown",
   "id": "growing-bradley",
   "metadata": {},
   "source": [
    "#### Note: \n",
    "\n",
    "- Slate is defined as that day of daily fantasy competitions, pretty much synonymous with date --> slate is all games played that day\n",
    "- For the time being, this dataset will not accomodate unusual schedules as it does not include start times for games, so it will just include all games played that day.\n",
    "    - `slate_size` is going to be a column to refer to how many games were played on a given day, i.e. the number of teams for each day divided by 2\n",
    "    - This will be useful to analyze patterns in optimal lineups, for example:\n",
    "        - How many players from a team / game would one want to include in their 9-player lineup\n",
    "        - Is it better to focus on certain games and ignore others, or is it better to try and have the best players from each team\n",
    "        - How much of an impact does `total_pts` and `diff_score` have on fpts outcomes"
   ]
  },
  {
   "cell_type": "code",
   "execution_count": null,
   "id": "western-segment",
   "metadata": {},
   "outputs": [],
   "source": [
    "import pandas as pd\n",
    "import numpy as np\n",
    "\n",
    "# pandas settings....\n",
    "\n",
    "from file_manager import FileManager\n",
    "fm = FileManager()"
   ]
  },
  {
   "cell_type": "code",
   "execution_count": null,
   "id": "oriental-lying",
   "metadata": {},
   "outputs": [],
   "source": [
    "pd.options.display.max_rows = 200"
   ]
  },
  {
   "cell_type": "code",
   "execution_count": null,
   "id": "racial-parker",
   "metadata": {},
   "outputs": [],
   "source": [
    "def categorizing_slates(**kwargs):\n",
    "    df: pd.DataFrame = fm.load_clean_data()\n",
    "\n",
    "    ret = (df\n",
    "           .drop_duplicates(['date', 'team'])\n",
    "           .groupby('date')\n",
    "           ['team']\n",
    "           .agg(['count'])\n",
    "          )\n",
    "    \n",
    "    slate_sizes = {date: ret.loc[date, 'count'] // 2 for date in ret.index}\n",
    "    \n",
    "    for date, size in slate_sizes.items():\n",
    "        df.loc[df['date']==date, 'slate_size'] = size\n",
    "    \n",
    "    df['slate_size'] = df['slate_size'].astype('uint8')\n",
    "    \n",
    "    # Categorize slates by quartile, excluding slates which include single game as that is different format\n",
    "    \n",
    "    df: pd.DataFrame = df.loc[df['slate_size']>1]\n",
    "    \n",
    "    slate_descrip = df['slate_size'].describe()\n",
    "    \n",
    "    slate_nums_categories = {\n",
    "        tuple(range(*(int(slate_descrip['min']), int(slate_descrip['25%'])))): 1, # first element will always be 2\n",
    "        tuple(range(*(int(slate_descrip['25%']), int(slate_descrip['50%'])))): 2,\n",
    "        tuple(range(*(int(slate_descrip['50%']), int(slate_descrip['75%'])))): 3,\n",
    "        tuple(range(*(int(slate_descrip['75%']), int(slate_descrip['max'])+1))): 4,\n",
    "        \n",
    "    }\n",
    "    \n",
    "    for nums, cat in slate_nums_categories.items():\n",
    "        df.loc[ df['slate_size'].isin(nums), 'slate_cat' ] = cat\n",
    "    \n",
    "    df['slate_cat'] = df['slate_cat'].astype('uint8')\n",
    "    \n",
    "#     fm.save_dataframe(df, 'season-data-slates')\n",
    "    return df\n",
    "#     return None"
   ]
  },
  {
   "cell_type": "code",
   "execution_count": null,
   "id": "systematic-satisfaction",
   "metadata": {},
   "outputs": [],
   "source": [
    "def sort_matchups(**kwargs):\n",
    "    \n",
    "    # Add slate categories\n",
    "    df: pd.DataFrame = categorizing_slates()\n",
    "    \n",
    "    \n",
    "    # team fantasy points\n",
    "    tm = (df\n",
    "          .groupby(['date', 'team'])\n",
    "          ['fpts']\n",
    "          .agg([np.sum])\n",
    "         )\n",
    "    \n",
    "    msg = 'Adding team fantasy points\\n'\n",
    "    print(msg)\n",
    "    for idx in tqdm(tm.index):\n",
    "        date, team = idx\n",
    "        df.loc[(df['date']==date) & (df['team']==team), 'team_fpts'] = tm.loc[idx,'sum']\n",
    "    \n",
    "    \n",
    "    df['matchup'] = tuple(zip(df['team'], df['opp']))\n",
    "    df['matchup'] = df['matchup'].map(lambda x: tuple(sorted(x)))\n",
    "    \n",
    "    # matchup fantasy points\n",
    "    mu = (df\n",
    "          .groupby(['date', 'matchup'])\n",
    "          ['fpts']\n",
    "          .agg([np.sum])\n",
    "          .reset_index()\n",
    "         )\n",
    "    \n",
    "#   Doing it this way because issue with having nested tuple in the index\n",
    "\n",
    "    matchup_info = {\n",
    "        date: {\n",
    "            matchup: (mu\n",
    "                      .loc[(mu['date']==date)\n",
    "                           & (mu['matchup']==matchup)\n",
    "                          ]\n",
    "                      ['sum']\n",
    "                      .item()\n",
    "                     )\n",
    "            for matchup in mu.loc[mu['date']==date, 'matchup'].drop_duplicates()\n",
    "        }\n",
    "        for date in mu['date'].drop_duplicates()\n",
    "    }\n",
    "    \n",
    "    print(msg.replace('team', 'matchup'))\n",
    "    for date, mu_totals in tqdm(matchup_info.items()):\n",
    "        for matchup, total in mu_totals.items():\n",
    "            df.loc[(df['date']==date) & (df['matchup']==matchup), 'mu_fpts'] = total\n",
    "            \n",
    "    fm.save_dataframe(df, 'season-data-added-info')\n",
    "    \n",
    "    return df"
   ]
  },
  {
   "cell_type": "code",
   "execution_count": null,
   "id": "impressive-toilet",
   "metadata": {},
   "outputs": [],
   "source": [
    "df = sort_matchups()"
   ]
  },
  {
   "cell_type": "code",
   "execution_count": null,
   "id": "76e03118-4156-4192-ba6b-8c2ebab942d5",
   "metadata": {},
   "outputs": [],
   "source": []
  },
  {
   "cell_type": "code",
   "execution_count": null,
   "id": "f02d3e4f-8056-4bda-a337-332f7c75d6e4",
   "metadata": {},
   "outputs": [],
   "source": [
    "current_teams: list[str,...] = (\n",
    "    'MIL',\n",
    "    'OKC',\n",
    "    'CHA',\n",
    "    'LAC',\n",
    "    'ATL',\n",
    "    'PHO',\n",
    "    'SAC',\n",
    "    'CLE',\n",
    "    'MIA',\n",
    "    'MIN',\n",
    "    'NY',\n",
    "    'WAS',\n",
    "    'GS',\n",
    "    'CHI',\n",
    "    'BKN',\n",
    "    'HOU'\n",
    "]"
   ]
  },
  {
   "cell_type": "code",
   "execution_count": null,
   "id": "434bd1ae-0fa7-41b8-9d25-5c02e8904b7c",
   "metadata": {},
   "outputs": [],
   "source": [
    "make_boxplots(teams=current_teams);"
   ]
  },
  {
   "cell_type": "code",
   "execution_count": null,
   "id": "392cae5c-38e5-4e1e-89f3-f36bc2931d3c",
   "metadata": {},
   "outputs": [],
   "source": [
    "# Versus these teams\n",
    "make_boxplots(\n",
    "    team_col='opp',\n",
    "    teams=current_teams\n",
    ");"
   ]
  },
  {
   "cell_type": "code",
   "execution_count": null,
   "id": "d36aafb3-afd3-48f7-b189-85ac3b79c290",
   "metadata": {},
   "outputs": [],
   "source": [
    "# Total fpts in games involving teams\n",
    "make_boxplots(\n",
    "    fpts_col='mu_fpts',\n",
    "    teams=current_teams\n",
    ");"
   ]
  },
  {
   "cell_type": "code",
   "execution_count": null,
   "id": "c49317c8-e6ad-4db2-9b45-e3f548eff266",
   "metadata": {},
   "outputs": [],
   "source": []
  }
 ],
 "metadata": {
  "kernelspec": {
   "display_name": "Python 3 (ipykernel)",
   "language": "python",
   "name": "python3"
  },
  "language_info": {
   "codemirror_mode": {
    "name": "ipython",
    "version": 3
   },
   "file_extension": ".py",
   "mimetype": "text/x-python",
   "name": "python",
   "nbconvert_exporter": "python",
   "pygments_lexer": "ipython3",
   "version": "3.10.8"
  }
 },
 "nbformat": 4,
 "nbformat_minor": 5
}
