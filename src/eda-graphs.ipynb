{
 "cells": [
  {
   "cell_type": "code",
   "execution_count": 1,
   "id": "polar-programming",
   "metadata": {},
   "outputs": [],
   "source": [
    "# import os\n",
    "# import itertools\n",
    "\n",
    "# import pandas as pd\n",
    "# import numpy as np\n",
    "# import matplotlib.pyplot as plt\n",
    "# import seaborn as sns\n",
    "\n",
    "\n",
    "# import matplotlib.style as style\n",
    "# style.use('seaborn-colorblind')\n",
    "\n",
    "# %matplotlib inline"
   ]
  },
  {
   "cell_type": "code",
   "execution_count": 2,
   "id": "sexual-connectivity",
   "metadata": {},
   "outputs": [],
   "source": [
    "from file_manager import FileManager\n",
    "fm = FileManager()"
   ]
  },
  {
   "cell_type": "markdown",
   "id": "driving-sewing",
   "metadata": {},
   "source": [
    "#### Data Profile\n",
    "- A really good tool to use for exploratory data analysis is the python library `pandas_profiling`, which generates most of the eda one would like to do using its `ProfileReport`"
   ]
  },
  {
   "cell_type": "code",
   "execution_count": 3,
   "id": "identified-gilbert",
   "metadata": {},
   "outputs": [],
   "source": [
    "from pandas_profiling import ProfileReport"
   ]
  },
  {
   "cell_type": "code",
   "execution_count": 4,
   "id": "hungarian-intake",
   "metadata": {},
   "outputs": [],
   "source": [
    "def data_profile(**kwargs):\n",
    "    \n",
    "    main_stats: list[str,...] = ['fpts', 'w_pts', 'l_pts', 'total_pts', 'pts_diff']\n",
    "    stats: list[str,...] = sum([main_stats, kwargs.get('stats', [])], [])\n",
    "    \n",
    "    df: pd.DataFrame = (fm\n",
    "                        .load_clean_data()\n",
    "                        [stats]\n",
    "                        .assign(abs_pts_diff=lambda df_: abs(df_.pts_diff))\n",
    "                       )\n",
    "    \n",
    "    \n",
    "    profile = ProfileReport( df )\n",
    "    return profile.to_widgets()"
   ]
  },
  {
   "cell_type": "code",
   "execution_count": 5,
   "id": "executed-arrow",
   "metadata": {},
   "outputs": [
    {
     "data": {
      "application/vnd.jupyter.widget-view+json": {
       "model_id": "6fc485e78d3f4bedb319d79918665706",
       "version_major": 2,
       "version_minor": 0
      },
      "text/plain": [
       "Summarize dataset:   0%|          | 0/19 [00:00<?, ?it/s]"
      ]
     },
     "metadata": {},
     "output_type": "display_data"
    },
    {
     "data": {
      "application/vnd.jupyter.widget-view+json": {
       "model_id": "4e5ea4c77ef94bf3829770af8672354d",
       "version_major": 2,
       "version_minor": 0
      },
      "text/plain": [
       "Generate report structure:   0%|          | 0/1 [00:00<?, ?it/s]"
      ]
     },
     "metadata": {},
     "output_type": "display_data"
    },
    {
     "data": {
      "application/vnd.jupyter.widget-view+json": {
       "model_id": "",
       "version_major": 2,
       "version_minor": 0
      },
      "text/plain": [
       "Render widgets:   0%|          | 0/1 [00:00<?, ?it/s]"
      ]
     },
     "metadata": {},
     "output_type": "display_data"
    },
    {
     "data": {
      "application/vnd.jupyter.widget-view+json": {
       "model_id": "99c9ebaafa164843a51bac97e9bbac58",
       "version_major": 2,
       "version_minor": 0
      },
      "text/plain": [
       "VBox(children=(Tab(children=(Tab(children=(GridBox(children=(VBox(children=(GridspecLayout(children=(HTML(valu…"
      ]
     },
     "metadata": {},
     "output_type": "display_data"
    }
   ],
   "source": [
    "data_profile()"
   ]
  },
  {
   "cell_type": "code",
   "execution_count": null,
   "id": "partial-elder",
   "metadata": {},
   "outputs": [],
   "source": []
  },
  {
   "cell_type": "code",
   "execution_count": null,
   "id": "specialized-amber",
   "metadata": {},
   "outputs": [],
   "source": []
  }
 ],
 "metadata": {
  "kernelspec": {
   "display_name": "Python 3",
   "language": "python",
   "name": "python3"
  },
  "language_info": {
   "codemirror_mode": {
    "name": "ipython",
    "version": 3
   },
   "file_extension": ".py",
   "mimetype": "text/x-python",
   "name": "python",
   "nbconvert_exporter": "python",
   "pygments_lexer": "ipython3",
   "version": "3.9.1"
  }
 },
 "nbformat": 4,
 "nbformat_minor": 5
}
