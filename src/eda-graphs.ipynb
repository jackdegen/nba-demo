{
 "cells": [
  {
   "cell_type": "code",
   "execution_count": null,
   "id": "verified-passage",
   "metadata": {},
   "outputs": [],
   "source": [
    "# import os\n",
    "# import itertools\n",
    "\n",
    "# import pandas as pd\n",
    "# import numpy as np\n",
    "# import matplotlib.pyplot as plt\n",
    "# import seaborn as sns\n",
    "\n",
    "\n",
    "# import matplotlib.style as style\n",
    "# style.use('seaborn-colorblind')\n",
    "\n",
    "# %matplotlib inline"
   ]
  },
  {
   "cell_type": "code",
   "execution_count": 1,
   "id": "hairy-broadcasting",
   "metadata": {},
   "outputs": [],
   "source": [
    "from file_manager import FileManager\n",
    "fm = FileManager()"
   ]
  },
  {
   "cell_type": "markdown",
   "id": "innocent-merchant",
   "metadata": {},
   "source": [
    "#### Data Profile\n",
    "- A really good tool to use for exploratory data analysis is the python library `pandas_profiling`, which generates most of the eda one would like to do using its `ProfileReport`"
   ]
  },
  {
   "cell_type": "code",
   "execution_count": 2,
   "id": "acute-peeing",
   "metadata": {},
   "outputs": [],
   "source": [
    "from pandas_profiling import ProfileReport"
   ]
  },
  {
   "cell_type": "code",
   "execution_count": 3,
   "id": "smoking-storage",
   "metadata": {},
   "outputs": [
    {
     "name": "stdout",
     "output_type": "stream",
     "text": [
      "<class 'pandas.core.frame.DataFrame'>\n",
      "RangeIndex: 18362 entries, 0 to 18361\n",
      "Data columns (total 50 columns):\n",
      " #   Column      Non-Null Count  Dtype  \n",
      "---  ------      --------------  -----  \n",
      " 0   date        18362 non-null  object \n",
      " 1   name        18362 non-null  object \n",
      " 2   team        18362 non-null  object \n",
      " 3   opp         18362 non-null  object \n",
      " 4   fpts        18362 non-null  float64\n",
      " 5   mp          18362 non-null  float64\n",
      " 6   fppm        18362 non-null  float64\n",
      " 7   home        18362 non-null  int64  \n",
      " 8   w           18362 non-null  object \n",
      " 9   w_pts       18362 non-null  int64  \n",
      " 10  l           18362 non-null  object \n",
      " 11  l_pts       18362 non-null  int64  \n",
      " 12  injury      18362 non-null  int64  \n",
      " 13  starter     18362 non-null  int64  \n",
      " 14  fg          18362 non-null  int64  \n",
      " 15  fga         18362 non-null  int64  \n",
      " 16  fg_perc     18362 non-null  float64\n",
      " 17  3p          18362 non-null  int64  \n",
      " 18  3pa         18362 non-null  int64  \n",
      " 19  3p_perc     18362 non-null  float64\n",
      " 20  ft          18362 non-null  int64  \n",
      " 21  fta         18362 non-null  int64  \n",
      " 22  ft_perc     18362 non-null  float64\n",
      " 23  orb         18362 non-null  int64  \n",
      " 24  drb         18362 non-null  int64  \n",
      " 25  trb         18362 non-null  int64  \n",
      " 26  ast         18362 non-null  int64  \n",
      " 27  stl         18362 non-null  int64  \n",
      " 28  blk         18362 non-null  int64  \n",
      " 29  tov         18362 non-null  int64  \n",
      " 30  pf          18362 non-null  int64  \n",
      " 31  pts         18362 non-null  int64  \n",
      " 32  plus_minus  18362 non-null  float64\n",
      " 33  ts          18362 non-null  float64\n",
      " 34  efg         18362 non-null  float64\n",
      " 35  3par        18362 non-null  float64\n",
      " 36  ftr         18362 non-null  float64\n",
      " 37  orb_perc    18362 non-null  float64\n",
      " 38  drb_perc    18362 non-null  float64\n",
      " 39  trb_perc    18362 non-null  float64\n",
      " 40  ast_perc    18362 non-null  float64\n",
      " 41  stl_perc    18362 non-null  float64\n",
      " 42  blk_perc    18362 non-null  float64\n",
      " 43  tov_perc    18362 non-null  float64\n",
      " 44  usg         18362 non-null  float64\n",
      " 45  ortg        18362 non-null  float64\n",
      " 46  drtg        18362 non-null  float64\n",
      " 47  bpm         18362 non-null  float64\n",
      " 48  total_pts   18362 non-null  int64  \n",
      " 49  pts_diff    18362 non-null  int64  \n",
      "dtypes: float64(22), int64(22), object(6)\n",
      "memory usage: 7.0+ MB\n"
     ]
    }
   ],
   "source": [
    "fm.load_clean_data().info()"
   ]
  },
  {
   "cell_type": "code",
   "execution_count": 4,
   "id": "sonic-event",
   "metadata": {},
   "outputs": [],
   "source": [
    "def data_profile(**kwargs):\n",
    "    \n",
    "    main_stats: list[str,...] = ['fpts', 'mp', 'fppm', 'pts', 'ast', 'trb', 'usg', 'ts', 'efg', 'fg', 'fga', 'ft', 'fta', 'pts_diff']\n",
    "    \n",
    "    stats: list[str,...] = sum([main_stats, kwargs.get('stats', [])], [])\n",
    "    profile = ProfileReport( fm.load_clean_data()[stats] )\n",
    "    return profile.to_widgets()"
   ]
  },
  {
   "cell_type": "code",
   "execution_count": 5,
   "id": "excellent-guess",
   "metadata": {},
   "outputs": [
    {
     "data": {
      "application/vnd.jupyter.widget-view+json": {
       "model_id": "95b7042b44364604b51ecac92f56d703",
       "version_major": 2,
       "version_minor": 0
      },
      "text/plain": [
       "Summarize dataset:   0%|          | 0/27 [00:00<?, ?it/s]"
      ]
     },
     "metadata": {},
     "output_type": "display_data"
    },
    {
     "data": {
      "application/vnd.jupyter.widget-view+json": {
       "model_id": "6ac2f4907a7c41e7b81fb16eddfd32d0",
       "version_major": 2,
       "version_minor": 0
      },
      "text/plain": [
       "Generate report structure:   0%|          | 0/1 [00:00<?, ?it/s]"
      ]
     },
     "metadata": {},
     "output_type": "display_data"
    },
    {
     "data": {
      "application/vnd.jupyter.widget-view+json": {
       "model_id": "",
       "version_major": 2,
       "version_minor": 0
      },
      "text/plain": [
       "Render widgets:   0%|          | 0/1 [00:00<?, ?it/s]"
      ]
     },
     "metadata": {},
     "output_type": "display_data"
    },
    {
     "data": {
      "application/vnd.jupyter.widget-view+json": {
       "model_id": "21b31185d60344aaba73baa425b45fcc",
       "version_major": 2,
       "version_minor": 0
      },
      "text/plain": [
       "VBox(children=(Tab(children=(Tab(children=(GridBox(children=(VBox(children=(GridspecLayout(children=(HTML(valu…"
      ]
     },
     "metadata": {},
     "output_type": "display_data"
    }
   ],
   "source": [
    "data_profile()"
   ]
  },
  {
   "cell_type": "code",
   "execution_count": null,
   "id": "velvet-contractor",
   "metadata": {},
   "outputs": [],
   "source": []
  }
 ],
 "metadata": {
  "kernelspec": {
   "display_name": "Python 3",
   "language": "python",
   "name": "python3"
  },
  "language_info": {
   "codemirror_mode": {
    "name": "ipython",
    "version": 3
   },
   "file_extension": ".py",
   "mimetype": "text/x-python",
   "name": "python",
   "nbconvert_exporter": "python",
   "pygments_lexer": "ipython3",
   "version": "3.9.1"
  }
 },
 "nbformat": 4,
 "nbformat_minor": 5
}
